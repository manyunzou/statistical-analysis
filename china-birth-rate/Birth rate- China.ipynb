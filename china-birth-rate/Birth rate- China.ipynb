{
 "cells": [
  {
   "cell_type": "markdown",
   "id": "8e69a79d",
   "metadata": {},
   "source": [
    "# Exploring China's Fertality Rate"
   ]
  },
  {
   "cell_type": "markdown",
   "id": "0c2d1607",
   "metadata": {},
   "source": [
    "## Data preparation"
   ]
  },
  {
   "cell_type": "code",
   "execution_count": 1,
   "id": "94e4b662",
   "metadata": {},
   "outputs": [],
   "source": [
    "import pandas as pd"
   ]
  },
  {
   "cell_type": "code",
   "execution_count": 39,
   "id": "b4c34e47",
   "metadata": {},
   "outputs": [],
   "source": [
    "# Country classification\n",
    "classification = (\n",
    "    pd.read_excel(\"CLASS.xlsx\")\n",
    ")\n",
    "\n",
    "classification_dict = dict(zip(classification['Code'], classification['Income group']))"
   ]
  },
  {
   "cell_type": "code",
   "execution_count": 40,
   "id": "a342e1a0",
   "metadata": {},
   "outputs": [
    {
     "data": {
      "text/html": [
       "<div>\n",
       "<style scoped>\n",
       "    .dataframe tbody tr th:only-of-type {\n",
       "        vertical-align: middle;\n",
       "    }\n",
       "\n",
       "    .dataframe tbody tr th {\n",
       "        vertical-align: top;\n",
       "    }\n",
       "\n",
       "    .dataframe thead th {\n",
       "        text-align: right;\n",
       "    }\n",
       "</style>\n",
       "<table border=\"1\" class=\"dataframe\">\n",
       "  <thead>\n",
       "    <tr style=\"text-align: right;\">\n",
       "      <th></th>\n",
       "      <th>country</th>\n",
       "      <th>code</th>\n",
       "      <th>year</th>\n",
       "      <th>birth_rate_crude</th>\n",
       "      <th>income_group</th>\n",
       "    </tr>\n",
       "  </thead>\n",
       "  <tbody>\n",
       "    <tr>\n",
       "      <th>0</th>\n",
       "      <td>Aruba</td>\n",
       "      <td>ABW</td>\n",
       "      <td>2021</td>\n",
       "      <td>7.193</td>\n",
       "      <td>High income</td>\n",
       "    </tr>\n",
       "    <tr>\n",
       "      <th>1</th>\n",
       "      <td>Afghanistan</td>\n",
       "      <td>AFG</td>\n",
       "      <td>2021</td>\n",
       "      <td>35.842</td>\n",
       "      <td>Low income</td>\n",
       "    </tr>\n",
       "    <tr>\n",
       "      <th>2</th>\n",
       "      <td>Angola</td>\n",
       "      <td>AGO</td>\n",
       "      <td>2021</td>\n",
       "      <td>38.809</td>\n",
       "      <td>Lower middle income</td>\n",
       "    </tr>\n",
       "    <tr>\n",
       "      <th>3</th>\n",
       "      <td>Albania</td>\n",
       "      <td>ALB</td>\n",
       "      <td>2021</td>\n",
       "      <td>10.240</td>\n",
       "      <td>Upper middle income</td>\n",
       "    </tr>\n",
       "    <tr>\n",
       "      <th>4</th>\n",
       "      <td>Andorra</td>\n",
       "      <td>AND</td>\n",
       "      <td>2021</td>\n",
       "      <td>NaN</td>\n",
       "      <td>High income</td>\n",
       "    </tr>\n",
       "  </tbody>\n",
       "</table>\n",
       "</div>"
      ],
      "text/plain": [
       "       country code  year  birth_rate_crude         income_group\n",
       "0        Aruba  ABW  2021             7.193          High income\n",
       "1  Afghanistan  AFG  2021            35.842           Low income\n",
       "2       Angola  AGO  2021            38.809  Lower middle income\n",
       "3      Albania  ALB  2021            10.240  Upper middle income\n",
       "4      Andorra  AND  2021               NaN          High income"
      ]
     },
     "execution_count": 40,
     "metadata": {},
     "output_type": "execute_result"
    }
   ],
   "source": [
    "# Target rate\n",
    "birth = (\n",
    "    pd.read_csv(\"birth_rate.csv\")\n",
    "    .rename(columns={'Country Name':'country','Country Code':'code'})\n",
    "    [['country','code', '1960',\n",
    "       '1961', '1962', '1963', '1964', '1965', '1966', '1967', '1968', '1969',\n",
    "       '1970', '1971', '1972', '1973', '1974', '1975', '1976', '1977', '1978',\n",
    "       '1979', '1980', '1981', '1982', '1983', '1984', '1985', '1986', '1987',\n",
    "       '1988', '1989', '1990', '1991', '1992', '1993', '1994', '1995', '1996',\n",
    "       '1997', '1998', '1999', '2000', '2001', '2002', '2003', '2004', '2005',\n",
    "       '2006', '2007', '2008', '2009', '2010', '2011', '2012', '2013', '2014',\n",
    "       '2015', '2016', '2017', '2018', '2019', '2020', '2021']] #2022 data is not avaliable\n",
    ")\n",
    "\n",
    "birth = (\n",
    "    pd.melt(birth, id_vars=['country','code'])\n",
    "    .rename(columns={\n",
    "        'variable':'year',\n",
    "        'value':'birth_rate_crude'\n",
    "    })\n",
    "    .assign(\n",
    "        income_group = lambda df:df['code'].map(classification_dict)\n",
    "    )\n",
    "    .loc[\n",
    "        lambda x:x['income_group'].notnull()\n",
    "    ]\n",
    ")\n",
    "\n",
    "birth_df = (\n",
    "    birth\n",
    "    .loc[\n",
    "        lambda x:x['year']==\"2021\"\n",
    "    ]\n",
    "    .reset_index(drop=True)\n",
    ")\n",
    "\n",
    "birth_df.head()"
   ]
  },
  {
   "cell_type": "markdown",
   "id": "d52b153c",
   "metadata": {},
   "source": [
    "### GDP"
   ]
  },
  {
   "cell_type": "code",
   "execution_count": 41,
   "id": "a99a340f",
   "metadata": {},
   "outputs": [
    {
     "data": {
      "text/html": [
       "<div>\n",
       "<style scoped>\n",
       "    .dataframe tbody tr th:only-of-type {\n",
       "        vertical-align: middle;\n",
       "    }\n",
       "\n",
       "    .dataframe tbody tr th {\n",
       "        vertical-align: top;\n",
       "    }\n",
       "\n",
       "    .dataframe thead th {\n",
       "        text-align: right;\n",
       "    }\n",
       "</style>\n",
       "<table border=\"1\" class=\"dataframe\">\n",
       "  <thead>\n",
       "    <tr style=\"text-align: right;\">\n",
       "      <th></th>\n",
       "      <th>country</th>\n",
       "      <th>code</th>\n",
       "      <th>variable</th>\n",
       "      <th>gdp_per_capita_dollars</th>\n",
       "      <th>income_group</th>\n",
       "    </tr>\n",
       "  </thead>\n",
       "  <tbody>\n",
       "    <tr>\n",
       "      <th>16226</th>\n",
       "      <td>Aruba</td>\n",
       "      <td>ABW</td>\n",
       "      <td>2021</td>\n",
       "      <td>29127.759380</td>\n",
       "      <td>High income</td>\n",
       "    </tr>\n",
       "    <tr>\n",
       "      <th>16228</th>\n",
       "      <td>Afghanistan</td>\n",
       "      <td>AFG</td>\n",
       "      <td>2021</td>\n",
       "      <td>355.777826</td>\n",
       "      <td>Low income</td>\n",
       "    </tr>\n",
       "    <tr>\n",
       "      <th>16230</th>\n",
       "      <td>Angola</td>\n",
       "      <td>AGO</td>\n",
       "      <td>2021</td>\n",
       "      <td>1927.474078</td>\n",
       "      <td>Lower middle income</td>\n",
       "    </tr>\n",
       "    <tr>\n",
       "      <th>16231</th>\n",
       "      <td>Albania</td>\n",
       "      <td>ALB</td>\n",
       "      <td>2021</td>\n",
       "      <td>6377.203096</td>\n",
       "      <td>Upper middle income</td>\n",
       "    </tr>\n",
       "    <tr>\n",
       "      <th>16232</th>\n",
       "      <td>Andorra</td>\n",
       "      <td>AND</td>\n",
       "      <td>2021</td>\n",
       "      <td>42072.319420</td>\n",
       "      <td>High income</td>\n",
       "    </tr>\n",
       "  </tbody>\n",
       "</table>\n",
       "</div>"
      ],
      "text/plain": [
       "           country code variable  gdp_per_capita_dollars         income_group\n",
       "16226        Aruba  ABW     2021            29127.759380          High income\n",
       "16228  Afghanistan  AFG     2021              355.777826           Low income\n",
       "16230       Angola  AGO     2021             1927.474078  Lower middle income\n",
       "16231      Albania  ALB     2021             6377.203096  Upper middle income\n",
       "16232      Andorra  AND     2021            42072.319420          High income"
      ]
     },
     "execution_count": 41,
     "metadata": {},
     "output_type": "execute_result"
    }
   ],
   "source": [
    "# Overall Economic Indicator\n",
    "gdp = (\n",
    "    pd.read_csv(\"gdp_per_capita.csv\")\n",
    "    .rename(columns={\n",
    "        'Country Name': 'country',\n",
    "        'Country Code': 'code'\n",
    "    })\n",
    "    [['country', 'code','1960',\n",
    "       '1961', '1962', '1963', '1964', '1965', '1966', '1967', '1968', '1969',\n",
    "       '1970', '1971', '1972', '1973', '1974', '1975', '1976', '1977', '1978',\n",
    "       '1979', '1980', '1981', '1982', '1983', '1984', '1985', '1986', '1987',\n",
    "       '1988', '1989', '1990', '1991', '1992', '1993', '1994', '1995', '1996',\n",
    "       '1997', '1998', '1999', '2000', '2001', '2002', '2003', '2004', '2005',\n",
    "       '2006', '2007', '2008', '2009', '2010', '2011', '2012', '2013', '2014',\n",
    "       '2015', '2016', '2017', '2018', '2019', '2020', '2021', '2022']]\n",
    ")\n",
    "\n",
    "gdp = (\n",
    "    pd.melt(gdp, id_vars=['country','code'])\n",
    "    .rename(columns={'value':'gdp_per_capita_dollars'})\n",
    "    .assign(\n",
    "        income_group = lambda df:df['code'].map(classification_dict)\n",
    "    )\n",
    "    .loc[\n",
    "        lambda x:x['income_group'].notnull()\n",
    "    ]\n",
    ")\n",
    "\n",
    "gdp_df = (\n",
    "    gdp\n",
    "    .loc[\n",
    "        lambda x: x['variable']==\"2021\"\n",
    "    ]\n",
    ")\n",
    "\n",
    "gdp_df.head()"
   ]
  },
  {
   "cell_type": "markdown",
   "id": "8bc074fd",
   "metadata": {},
   "source": [
    "### Inflation"
   ]
  },
  {
   "cell_type": "code",
   "execution_count": 42,
   "id": "167fbf4f",
   "metadata": {},
   "outputs": [
    {
     "data": {
      "text/html": [
       "<div>\n",
       "<style scoped>\n",
       "    .dataframe tbody tr th:only-of-type {\n",
       "        vertical-align: middle;\n",
       "    }\n",
       "\n",
       "    .dataframe tbody tr th {\n",
       "        vertical-align: top;\n",
       "    }\n",
       "\n",
       "    .dataframe thead th {\n",
       "        text-align: right;\n",
       "    }\n",
       "</style>\n",
       "<table border=\"1\" class=\"dataframe\">\n",
       "  <thead>\n",
       "    <tr style=\"text-align: right;\">\n",
       "      <th></th>\n",
       "      <th>country</th>\n",
       "      <th>code</th>\n",
       "      <th>variable</th>\n",
       "      <th>inflation_consumer_prices_perc</th>\n",
       "      <th>income_group</th>\n",
       "    </tr>\n",
       "  </thead>\n",
       "  <tbody>\n",
       "    <tr>\n",
       "      <th>16226</th>\n",
       "      <td>Aruba</td>\n",
       "      <td>ABW</td>\n",
       "      <td>2021</td>\n",
       "      <td>NaN</td>\n",
       "      <td>High income</td>\n",
       "    </tr>\n",
       "    <tr>\n",
       "      <th>16228</th>\n",
       "      <td>Afghanistan</td>\n",
       "      <td>AFG</td>\n",
       "      <td>2021</td>\n",
       "      <td>NaN</td>\n",
       "      <td>Low income</td>\n",
       "    </tr>\n",
       "    <tr>\n",
       "      <th>16230</th>\n",
       "      <td>Angola</td>\n",
       "      <td>AGO</td>\n",
       "      <td>2021</td>\n",
       "      <td>25.754266</td>\n",
       "      <td>Lower middle income</td>\n",
       "    </tr>\n",
       "    <tr>\n",
       "      <th>16231</th>\n",
       "      <td>Albania</td>\n",
       "      <td>ALB</td>\n",
       "      <td>2021</td>\n",
       "      <td>2.041472</td>\n",
       "      <td>Upper middle income</td>\n",
       "    </tr>\n",
       "    <tr>\n",
       "      <th>16232</th>\n",
       "      <td>Andorra</td>\n",
       "      <td>AND</td>\n",
       "      <td>2021</td>\n",
       "      <td>NaN</td>\n",
       "      <td>High income</td>\n",
       "    </tr>\n",
       "  </tbody>\n",
       "</table>\n",
       "</div>"
      ],
      "text/plain": [
       "           country code variable  inflation_consumer_prices_perc  \\\n",
       "16226        Aruba  ABW     2021                             NaN   \n",
       "16228  Afghanistan  AFG     2021                             NaN   \n",
       "16230       Angola  AGO     2021                       25.754266   \n",
       "16231      Albania  ALB     2021                        2.041472   \n",
       "16232      Andorra  AND     2021                             NaN   \n",
       "\n",
       "              income_group  \n",
       "16226          High income  \n",
       "16228           Low income  \n",
       "16230  Lower middle income  \n",
       "16231  Upper middle income  \n",
       "16232          High income  "
      ]
     },
     "execution_count": 42,
     "metadata": {},
     "output_type": "execute_result"
    }
   ],
   "source": [
    "# Overall Economic Indicator\n",
    "inflation = (\n",
    "    pd.read_csv(\"inflation_consumer_prices.csv\")\n",
    "    .rename(columns={'Country Name':'country', 'Country Code':'code'})\n",
    "    [['country', 'code','1960',\n",
    "       '1961', '1962', '1963', '1964', '1965', '1966', '1967', '1968', '1969',\n",
    "       '1970', '1971', '1972', '1973', '1974', '1975', '1976', '1977', '1978',\n",
    "       '1979', '1980', '1981', '1982', '1983', '1984', '1985', '1986', '1987',\n",
    "       '1988', '1989', '1990', '1991', '1992', '1993', '1994', '1995', '1996',\n",
    "       '1997', '1998', '1999', '2000', '2001', '2002', '2003', '2004', '2005',\n",
    "       '2006', '2007', '2008', '2009', '2010', '2011', '2012', '2013', '2014',\n",
    "       '2015', '2016', '2017', '2018', '2019', '2020', '2021', '2022']]\n",
    ")\n",
    "\n",
    "inflation = (\n",
    "    pd.melt(inflation, id_vars=['country','code'])\n",
    "    .rename(columns={'value':'inflation_consumer_prices_perc'})\n",
    "    .assign(\n",
    "        income_group = lambda df:df['code'].map(classification_dict)\n",
    "    )\n",
    "    .loc[\n",
    "        lambda x:x['income_group'].notnull()\n",
    "    ]\n",
    ")\n",
    "\n",
    "inflation_df = (\n",
    "    inflation\n",
    "    .loc[\n",
    "        lambda x:x['variable']=='2021'\n",
    "    ]\n",
    ")\n",
    "\n",
    "inflation_df.head()"
   ]
  },
  {
   "cell_type": "markdown",
   "id": "490249c6",
   "metadata": {},
   "source": [
    "### Population"
   ]
  },
  {
   "cell_type": "code",
   "execution_count": 120,
   "id": "2a1ac666",
   "metadata": {},
   "outputs": [
    {
     "data": {
      "text/html": [
       "<div>\n",
       "<style scoped>\n",
       "    .dataframe tbody tr th:only-of-type {\n",
       "        vertical-align: middle;\n",
       "    }\n",
       "\n",
       "    .dataframe tbody tr th {\n",
       "        vertical-align: top;\n",
       "    }\n",
       "\n",
       "    .dataframe thead th {\n",
       "        text-align: right;\n",
       "    }\n",
       "</style>\n",
       "<table border=\"1\" class=\"dataframe\">\n",
       "  <thead>\n",
       "    <tr style=\"text-align: right;\">\n",
       "      <th></th>\n",
       "      <th>country</th>\n",
       "      <th>code</th>\n",
       "      <th>year</th>\n",
       "      <th>population</th>\n",
       "    </tr>\n",
       "  </thead>\n",
       "  <tbody>\n",
       "    <tr>\n",
       "      <th>0</th>\n",
       "      <td>Afghanistan</td>\n",
       "      <td>AFG</td>\n",
       "      <td>1950</td>\n",
       "      <td>7480464.0</td>\n",
       "    </tr>\n",
       "    <tr>\n",
       "      <th>1</th>\n",
       "      <td>Afghanistan</td>\n",
       "      <td>AFG</td>\n",
       "      <td>1951</td>\n",
       "      <td>7571542.0</td>\n",
       "    </tr>\n",
       "    <tr>\n",
       "      <th>2</th>\n",
       "      <td>Afghanistan</td>\n",
       "      <td>AFG</td>\n",
       "      <td>1952</td>\n",
       "      <td>7667534.0</td>\n",
       "    </tr>\n",
       "    <tr>\n",
       "      <th>3</th>\n",
       "      <td>Afghanistan</td>\n",
       "      <td>AFG</td>\n",
       "      <td>1953</td>\n",
       "      <td>7764549.0</td>\n",
       "    </tr>\n",
       "    <tr>\n",
       "      <th>4</th>\n",
       "      <td>Afghanistan</td>\n",
       "      <td>AFG</td>\n",
       "      <td>1954</td>\n",
       "      <td>7864289.0</td>\n",
       "    </tr>\n",
       "  </tbody>\n",
       "</table>\n",
       "</div>"
      ],
      "text/plain": [
       "       country code  year  population\n",
       "0  Afghanistan  AFG  1950   7480464.0\n",
       "1  Afghanistan  AFG  1951   7571542.0\n",
       "2  Afghanistan  AFG  1952   7667534.0\n",
       "3  Afghanistan  AFG  1953   7764549.0\n",
       "4  Afghanistan  AFG  1954   7864289.0"
      ]
     },
     "execution_count": 120,
     "metadata": {},
     "output_type": "execute_result"
    }
   ],
   "source": [
    "# population total\n",
    "population = (\n",
    "    pd.read_csv(\"fertility-rate-mortality-rate-population.csv\")\n",
    "    .rename(columns={\n",
    "        'Entity':'country',\n",
    "        'Code':'code',\n",
    "        'Year':'year',\n",
    "        'Population (historical estimates)':'population'\n",
    "    })\n",
    "    .assign(\n",
    "        income_group = lambda df:df['code'].map(classification_dict)\n",
    "    )\n",
    "    .loc[\n",
    "        lambda x:x['income_group'].notnull()\n",
    "    ]\n",
    "    [['country','code','year','population']]\n",
    "    .reset_index(drop=True)\n",
    ")\n",
    "\n",
    "population.head()"
   ]
  },
  {
   "cell_type": "markdown",
   "id": "516de253",
   "metadata": {},
   "source": [
    "### Mitigation"
   ]
  },
  {
   "cell_type": "code",
   "execution_count": 207,
   "id": "17ef41c3",
   "metadata": {},
   "outputs": [
    {
     "data": {
      "text/html": [
       "<div>\n",
       "<style scoped>\n",
       "    .dataframe tbody tr th:only-of-type {\n",
       "        vertical-align: middle;\n",
       "    }\n",
       "\n",
       "    .dataframe tbody tr th {\n",
       "        vertical-align: top;\n",
       "    }\n",
       "\n",
       "    .dataframe thead th {\n",
       "        text-align: right;\n",
       "    }\n",
       "</style>\n",
       "<table border=\"1\" class=\"dataframe\">\n",
       "  <thead>\n",
       "    <tr style=\"text-align: right;\">\n",
       "      <th></th>\n",
       "      <th>country</th>\n",
       "      <th>code</th>\n",
       "      <th>variable</th>\n",
       "      <th>mitigation</th>\n",
       "      <th>countryId</th>\n",
       "    </tr>\n",
       "  </thead>\n",
       "  <tbody>\n",
       "    <tr>\n",
       "      <th>0</th>\n",
       "      <td>China</td>\n",
       "      <td>CHN</td>\n",
       "      <td>1960</td>\n",
       "      <td>-118519.0</td>\n",
       "      <td>China1960</td>\n",
       "    </tr>\n",
       "    <tr>\n",
       "      <th>1</th>\n",
       "      <td>China</td>\n",
       "      <td>CHN</td>\n",
       "      <td>1961</td>\n",
       "      <td>-179064.0</td>\n",
       "      <td>China1961</td>\n",
       "    </tr>\n",
       "    <tr>\n",
       "      <th>2</th>\n",
       "      <td>China</td>\n",
       "      <td>CHN</td>\n",
       "      <td>1962</td>\n",
       "      <td>-219144.0</td>\n",
       "      <td>China1962</td>\n",
       "    </tr>\n",
       "    <tr>\n",
       "      <th>3</th>\n",
       "      <td>China</td>\n",
       "      <td>CHN</td>\n",
       "      <td>1963</td>\n",
       "      <td>-219686.0</td>\n",
       "      <td>China1963</td>\n",
       "    </tr>\n",
       "    <tr>\n",
       "      <th>4</th>\n",
       "      <td>China</td>\n",
       "      <td>CHN</td>\n",
       "      <td>1964</td>\n",
       "      <td>-183384.0</td>\n",
       "      <td>China1964</td>\n",
       "    </tr>\n",
       "  </tbody>\n",
       "</table>\n",
       "</div>"
      ],
      "text/plain": [
       "  country code variable  mitigation  countryId\n",
       "0   China  CHN     1960   -118519.0  China1960\n",
       "1   China  CHN     1961   -179064.0  China1961\n",
       "2   China  CHN     1962   -219144.0  China1962\n",
       "3   China  CHN     1963   -219686.0  China1963\n",
       "4   China  CHN     1964   -183384.0  China1964"
      ]
     },
     "execution_count": 207,
     "metadata": {},
     "output_type": "execute_result"
    }
   ],
   "source": [
    "mitigation = (\n",
    "    pd.read_csv(\"mitigation.csv\")\n",
    "    .rename(columns={'Country Name':'country', 'Country Code':'code'})\n",
    "    [['country', 'code','1960',\n",
    "       '1961', '1962', '1963', '1964', '1965', '1966', '1967', '1968', '1969',\n",
    "       '1970', '1971', '1972', '1973', '1974', '1975', '1976', '1977', '1978',\n",
    "       '1979', '1980', '1981', '1982', '1983', '1984', '1985', '1986', '1987',\n",
    "       '1988', '1989', '1990', '1991', '1992', '1993', '1994', '1995', '1996',\n",
    "       '1997', '1998', '1999', '2000', '2001', '2002', '2003', '2004', '2005',\n",
    "       '2006', '2007', '2008', '2009', '2010', '2011', '2012', '2013', '2014',\n",
    "       '2015', '2016', '2017', '2018', '2019', '2020', '2021', '2022']]\n",
    ")\n",
    "\n",
    "mitigation_china = (\n",
    "    pd.melt(mitigation, id_vars=['country','code'])\n",
    "    .rename(columns={'value':'mitigation'})\n",
    "    .loc[\n",
    "        lambda x:x['country']==\"China\"\n",
    "    ]\n",
    "    .reset_index(drop=True)\n",
    "    .assign(\n",
    "        countryId = lambda df:df['country'] + df['variable']\n",
    "    )\n",
    ")\n",
    "\n",
    "mitigation_china.head()"
   ]
  },
  {
   "cell_type": "markdown",
   "id": "30833a8f",
   "metadata": {},
   "source": [
    "### Sex ratio"
   ]
  },
  {
   "cell_type": "code",
   "execution_count": 209,
   "id": "f886394f",
   "metadata": {},
   "outputs": [
    {
     "data": {
      "text/html": [
       "<div>\n",
       "<style scoped>\n",
       "    .dataframe tbody tr th:only-of-type {\n",
       "        vertical-align: middle;\n",
       "    }\n",
       "\n",
       "    .dataframe tbody tr th {\n",
       "        vertical-align: top;\n",
       "    }\n",
       "\n",
       "    .dataframe thead th {\n",
       "        text-align: right;\n",
       "    }\n",
       "</style>\n",
       "<table border=\"1\" class=\"dataframe\">\n",
       "  <thead>\n",
       "    <tr style=\"text-align: right;\">\n",
       "      <th></th>\n",
       "      <th>country</th>\n",
       "      <th>code</th>\n",
       "      <th>year</th>\n",
       "      <th>sex_ratio</th>\n",
       "      <th>countryId</th>\n",
       "    </tr>\n",
       "  </thead>\n",
       "  <tbody>\n",
       "    <tr>\n",
       "      <th>0</th>\n",
       "      <td>China</td>\n",
       "      <td>CHN</td>\n",
       "      <td>2021</td>\n",
       "      <td>1.118</td>\n",
       "      <td>China2021</td>\n",
       "    </tr>\n",
       "    <tr>\n",
       "      <th>1</th>\n",
       "      <td>China</td>\n",
       "      <td>CHN</td>\n",
       "      <td>2020</td>\n",
       "      <td>1.123</td>\n",
       "      <td>China2020</td>\n",
       "    </tr>\n",
       "    <tr>\n",
       "      <th>2</th>\n",
       "      <td>China</td>\n",
       "      <td>CHN</td>\n",
       "      <td>2019</td>\n",
       "      <td>1.129</td>\n",
       "      <td>China2019</td>\n",
       "    </tr>\n",
       "    <tr>\n",
       "      <th>3</th>\n",
       "      <td>China</td>\n",
       "      <td>CHN</td>\n",
       "      <td>2018</td>\n",
       "      <td>1.134</td>\n",
       "      <td>China2018</td>\n",
       "    </tr>\n",
       "    <tr>\n",
       "      <th>4</th>\n",
       "      <td>China</td>\n",
       "      <td>CHN</td>\n",
       "      <td>2017</td>\n",
       "      <td>1.140</td>\n",
       "      <td>China2017</td>\n",
       "    </tr>\n",
       "  </tbody>\n",
       "</table>\n",
       "</div>"
      ],
      "text/plain": [
       "  country code  year  sex_ratio  countryId\n",
       "0   China  CHN  2021      1.118  China2021\n",
       "1   China  CHN  2020      1.123  China2020\n",
       "2   China  CHN  2019      1.129  China2019\n",
       "3   China  CHN  2018      1.134  China2018\n",
       "4   China  CHN  2017      1.140  China2017"
      ]
     },
     "execution_count": 209,
     "metadata": {},
     "output_type": "execute_result"
    }
   ],
   "source": [
    "sex = (\n",
    "    pd.read_csv(\"sex ratio.csv\")\n",
    "    .rename(columns={\n",
    "        'Country Name':'country',\n",
    "        'Country Code':'code',\n",
    "        'Year':'year',\n",
    "        'Value':'sex_ratio'\n",
    "    })\n",
    "    [['country','code','year','sex_ratio']]\n",
    "    .reset_index(drop=True)\n",
    ")\n",
    "\n",
    "sex_china = (\n",
    "    sex\n",
    "    .loc[\n",
    "        lambda x:x['country']=='China'\n",
    "    ]\n",
    "    .reset_index(drop=True)\n",
    "    .assign(\n",
    "        countryId = lambda df:df['country'] + df['year'].astype(str)\n",
    "    )\n",
    ")\n",
    "\n",
    "sex_china.head()"
   ]
  },
  {
   "cell_type": "markdown",
   "id": "142694c4",
   "metadata": {},
   "source": [
    "### Schooling days"
   ]
  },
  {
   "cell_type": "code",
   "execution_count": 121,
   "id": "81f8305c",
   "metadata": {},
   "outputs": [],
   "source": [
    "# Personal factors\n",
    "\n",
    "# female education attainment %\n",
    "# too many unavaliable data, drop this factor\n",
    "education = (\n",
    "    pd.read_csv(\"Educational attainment by level of education, cumulative (% population 25+).csv\")\n",
    "    .loc[\n",
    "        lambda df:df['Indicator Name'].str.contains(\"female\")\n",
    "    ]\n",
    "    .rename(columns={\n",
    "        'Country Name':'country',\n",
    "        'Country Code':'code',\n",
    "        'Year':'year',\n",
    "        'Value':'value'\n",
    "    })\n",
    "    [['Indicator Name','country','code','year','value']]\n",
    ")\n",
    "\n",
    "bachelor = (\n",
    "    education\n",
    "    .loc[\n",
    "        lambda df:df['Indicator Name'].str.contains(\"Bachelor\")\n",
    "    ]\n",
    "    .rename(columns={'value':'bachelor_female_perc'})\n",
    "    .drop(columns='Indicator Name')\n",
    "    .reset_index(drop=True)\n",
    ")\n",
    "\n",
    "master = (\n",
    "    education\n",
    "    .loc[\n",
    "        lambda df:df['Indicator Name'].str.contains(\"Master\")\n",
    "    ]\n",
    "    .rename(columns={'value':'master_female_perc'})\n",
    "    .drop(columns='Indicator Name')\n",
    "    .reset_index(drop=True)\n",
    ")\n",
    "\n",
    "doctoral = (\n",
    "    education\n",
    "    .loc[\n",
    "        lambda df:df['Indicator Name'].str.contains(\"Doctoral\")\n",
    "    ]\n",
    "    .rename(columns={'value':'doctoral_female_perc'})\n",
    "    .drop(columns='Indicator Name')\n",
    "    .reset_index(drop=True)\n",
    ")"
   ]
  },
  {
   "cell_type": "code",
   "execution_count": 122,
   "id": "bb8d41e2",
   "metadata": {},
   "outputs": [
    {
     "data": {
      "text/html": [
       "<div>\n",
       "<style scoped>\n",
       "    .dataframe tbody tr th:only-of-type {\n",
       "        vertical-align: middle;\n",
       "    }\n",
       "\n",
       "    .dataframe tbody tr th {\n",
       "        vertical-align: top;\n",
       "    }\n",
       "\n",
       "    .dataframe thead th {\n",
       "        text-align: right;\n",
       "    }\n",
       "</style>\n",
       "<table border=\"1\" class=\"dataframe\">\n",
       "  <thead>\n",
       "    <tr style=\"text-align: right;\">\n",
       "      <th></th>\n",
       "      <th>country</th>\n",
       "      <th>code</th>\n",
       "      <th>year</th>\n",
       "      <th>years_of_schooling_female</th>\n",
       "      <th>income_group</th>\n",
       "    </tr>\n",
       "  </thead>\n",
       "  <tbody>\n",
       "    <tr>\n",
       "      <th>0</th>\n",
       "      <td>Afghanistan</td>\n",
       "      <td>AFG</td>\n",
       "      <td>1950</td>\n",
       "      <td>0.08</td>\n",
       "      <td>Low income</td>\n",
       "    </tr>\n",
       "    <tr>\n",
       "      <th>1</th>\n",
       "      <td>Afghanistan</td>\n",
       "      <td>AFG</td>\n",
       "      <td>1951</td>\n",
       "      <td>NaN</td>\n",
       "      <td>Low income</td>\n",
       "    </tr>\n",
       "    <tr>\n",
       "      <th>2</th>\n",
       "      <td>Afghanistan</td>\n",
       "      <td>AFG</td>\n",
       "      <td>1952</td>\n",
       "      <td>NaN</td>\n",
       "      <td>Low income</td>\n",
       "    </tr>\n",
       "    <tr>\n",
       "      <th>3</th>\n",
       "      <td>Afghanistan</td>\n",
       "      <td>AFG</td>\n",
       "      <td>1953</td>\n",
       "      <td>NaN</td>\n",
       "      <td>Low income</td>\n",
       "    </tr>\n",
       "    <tr>\n",
       "      <th>4</th>\n",
       "      <td>Afghanistan</td>\n",
       "      <td>AFG</td>\n",
       "      <td>1954</td>\n",
       "      <td>NaN</td>\n",
       "      <td>Low income</td>\n",
       "    </tr>\n",
       "  </tbody>\n",
       "</table>\n",
       "</div>"
      ],
      "text/plain": [
       "       country code  year  years_of_schooling_female income_group\n",
       "0  Afghanistan  AFG  1950                       0.08   Low income\n",
       "1  Afghanistan  AFG  1951                        NaN   Low income\n",
       "2  Afghanistan  AFG  1952                        NaN   Low income\n",
       "3  Afghanistan  AFG  1953                        NaN   Low income\n",
       "4  Afghanistan  AFG  1954                        NaN   Low income"
      ]
     },
     "execution_count": 122,
     "metadata": {},
     "output_type": "execute_result"
    }
   ],
   "source": [
    "# female education years\n",
    "\n",
    "schooling = (\n",
    "    pd.read_csv(\"womens-educational-attainment-vs-fertility.csv\")\n",
    "    .rename(columns={\n",
    "        'Combined - average years of education for 15-64 years female youth and adults':'years_of_schooling_female',\n",
    "        'Entity':'country',\n",
    "        'Code':'code',\n",
    "        'Year':'year',\n",
    "    })\n",
    "    .assign(\n",
    "        income_group = lambda df:df['code'].map(classification_dict)\n",
    "    )\n",
    "    [['country','code','year','years_of_schooling_female','income_group']]\n",
    "    .loc[\n",
    "        lambda x:x['income_group'].notnull()\n",
    "    ]\n",
    "    .reset_index(drop=True)\n",
    ")\n",
    "\n",
    "schooling.head()"
   ]
  },
  {
   "cell_type": "code",
   "execution_count": 46,
   "id": "44016920",
   "metadata": {},
   "outputs": [
    {
     "name": "stdout",
     "output_type": "stream",
     "text": [
      "215\n",
      "Countries with nan data in years of schooling:  71\n"
     ]
    }
   ],
   "source": [
    "print(len(schooling))\n",
    "print(\"Countries with nan data in years of schooling: \", len(schooling[schooling['years_of_schooling_female'].isnull()]))"
   ]
  },
  {
   "cell_type": "markdown",
   "id": "447ce1b7",
   "metadata": {},
   "source": [
    "### Female labor force participation"
   ]
  },
  {
   "cell_type": "code",
   "execution_count": 166,
   "id": "7568de28",
   "metadata": {},
   "outputs": [],
   "source": [
    "# # labor force participation - 15+ female %\n",
    "# labor = (\n",
    "#     pd.read_csv(\"labor force participation.csv\")\n",
    "#     .loc[\n",
    "#         lambda x: x['Indicator Name'] == 'Labor force participation rate, female (% of female population ages 15+) (national estimate)'\n",
    "#     ]\n",
    "#     .rename(columns={\n",
    "#         'Country Name':'country',\n",
    "#         'Country Code':'code',\n",
    "#         'Year':'year',\n",
    "#         'Value':'labor_force_participation'\n",
    "#     })\n",
    "#     .assign(\n",
    "#         income_group = lambda df:df['code'].map(classification_dict)\n",
    "#     )\n",
    "#     .loc[\n",
    "#         lambda x:x['income_group'].notnull()\n",
    "#     ]\n",
    "#     [['country','code','year','labor_force_participation']]\n",
    "#     .reset_index(drop=True)\n",
    "# )\n",
    "\n",
    "# labor.head()"
   ]
  },
  {
   "cell_type": "code",
   "execution_count": 202,
   "id": "aaad9305",
   "metadata": {},
   "outputs": [
    {
     "data": {
      "text/html": [
       "<div>\n",
       "<style scoped>\n",
       "    .dataframe tbody tr th:only-of-type {\n",
       "        vertical-align: middle;\n",
       "    }\n",
       "\n",
       "    .dataframe tbody tr th {\n",
       "        vertical-align: top;\n",
       "    }\n",
       "\n",
       "    .dataframe thead th {\n",
       "        text-align: right;\n",
       "    }\n",
       "</style>\n",
       "<table border=\"1\" class=\"dataframe\">\n",
       "  <thead>\n",
       "    <tr style=\"text-align: right;\">\n",
       "      <th></th>\n",
       "      <th>country</th>\n",
       "      <th>code</th>\n",
       "      <th>year</th>\n",
       "      <th>female_labor_participation</th>\n",
       "      <th>countryId</th>\n",
       "    </tr>\n",
       "  </thead>\n",
       "  <tbody>\n",
       "    <tr>\n",
       "      <th>40</th>\n",
       "      <td>China</td>\n",
       "      <td>CHN</td>\n",
       "      <td>1960</td>\n",
       "      <td>NaN</td>\n",
       "      <td>China1960</td>\n",
       "    </tr>\n",
       "    <tr>\n",
       "      <th>306</th>\n",
       "      <td>China</td>\n",
       "      <td>CHN</td>\n",
       "      <td>1961</td>\n",
       "      <td>NaN</td>\n",
       "      <td>China1961</td>\n",
       "    </tr>\n",
       "    <tr>\n",
       "      <th>572</th>\n",
       "      <td>China</td>\n",
       "      <td>CHN</td>\n",
       "      <td>1962</td>\n",
       "      <td>NaN</td>\n",
       "      <td>China1962</td>\n",
       "    </tr>\n",
       "    <tr>\n",
       "      <th>838</th>\n",
       "      <td>China</td>\n",
       "      <td>CHN</td>\n",
       "      <td>1963</td>\n",
       "      <td>NaN</td>\n",
       "      <td>China1963</td>\n",
       "    </tr>\n",
       "    <tr>\n",
       "      <th>1104</th>\n",
       "      <td>China</td>\n",
       "      <td>CHN</td>\n",
       "      <td>1964</td>\n",
       "      <td>NaN</td>\n",
       "      <td>China1964</td>\n",
       "    </tr>\n",
       "  </tbody>\n",
       "</table>\n",
       "</div>"
      ],
      "text/plain": [
       "     country code  year  female_labor_participation  countryId\n",
       "40     China  CHN  1960                         NaN  China1960\n",
       "306    China  CHN  1961                         NaN  China1961\n",
       "572    China  CHN  1962                         NaN  China1962\n",
       "838    China  CHN  1963                         NaN  China1963\n",
       "1104   China  CHN  1964                         NaN  China1964"
      ]
     },
     "execution_count": 202,
     "metadata": {},
     "output_type": "execute_result"
    }
   ],
   "source": [
    "labor = (\n",
    "    pd.read_csv(\"labor force participation.csv\")\n",
    "    .rename(columns={'Country Name':'country', 'Country Code':'code'})\n",
    "    [['country', 'code','1960',\n",
    "       '1961', '1962', '1963', '1964', '1965', '1966', '1967', '1968', '1969',\n",
    "       '1970', '1971', '1972', '1973', '1974', '1975', '1976', '1977', '1978',\n",
    "       '1979', '1980', '1981', '1982', '1983', '1984', '1985', '1986', '1987',\n",
    "       '1988', '1989', '1990', '1991', '1992', '1993', '1994', '1995', '1996',\n",
    "       '1997', '1998', '1999', '2000', '2001', '2002', '2003', '2004', '2005',\n",
    "       '2006', '2007', '2008', '2009', '2010', '2011', '2012', '2013', '2014',\n",
    "       '2015', '2016', '2017', '2018', '2019', '2020', '2021', '2022']]\n",
    ")\n",
    "\n",
    "labor_china=(\n",
    "    pd.melt(labor, id_vars=['country', 'code'])\n",
    "    .rename(columns={'variable':'year', 'value':'female_labor_participation'})\n",
    "    .loc[\n",
    "        lambda x:x['country']=='China'\n",
    "    ]\n",
    "    .assign(\n",
    "        countryId = lambda x:x['country'] + x['year']\n",
    "    )\n",
    ")\n",
    "\n",
    "labor_china.head()"
   ]
  },
  {
   "cell_type": "markdown",
   "id": "5a3e2ea2",
   "metadata": {},
   "source": [
    "### Paid leave, female (data unavaliable)"
   ]
  },
  {
   "cell_type": "code",
   "execution_count": 173,
   "id": "bb7e93f8",
   "metadata": {},
   "outputs": [
    {
     "name": "stdout",
     "output_type": "stream",
     "text": [
      "We have a total of 216 days, of which 28 countries don't have avaliable data.\n"
     ]
    },
    {
     "data": {
      "text/html": [
       "<div>\n",
       "<style scoped>\n",
       "    .dataframe tbody tr th:only-of-type {\n",
       "        vertical-align: middle;\n",
       "    }\n",
       "\n",
       "    .dataframe tbody tr th {\n",
       "        vertical-align: top;\n",
       "    }\n",
       "\n",
       "    .dataframe thead th {\n",
       "        text-align: right;\n",
       "    }\n",
       "</style>\n",
       "<table border=\"1\" class=\"dataframe\">\n",
       "  <thead>\n",
       "    <tr style=\"text-align: right;\">\n",
       "      <th></th>\n",
       "      <th>country</th>\n",
       "      <th>year</th>\n",
       "      <th>code</th>\n",
       "      <th>paid_leave</th>\n",
       "      <th>income_group</th>\n",
       "    </tr>\n",
       "  </thead>\n",
       "  <tbody>\n",
       "    <tr>\n",
       "      <th>0</th>\n",
       "      <td>Aruba</td>\n",
       "      <td>2023</td>\n",
       "      <td>ABW</td>\n",
       "      <td>NaN</td>\n",
       "      <td>High income</td>\n",
       "    </tr>\n",
       "    <tr>\n",
       "      <th>1</th>\n",
       "      <td>Afghanistan</td>\n",
       "      <td>2023</td>\n",
       "      <td>AFG</td>\n",
       "      <td>90.0</td>\n",
       "      <td>Low income</td>\n",
       "    </tr>\n",
       "    <tr>\n",
       "      <th>2</th>\n",
       "      <td>Angola</td>\n",
       "      <td>2023</td>\n",
       "      <td>AGO</td>\n",
       "      <td>90.0</td>\n",
       "      <td>Lower middle income</td>\n",
       "    </tr>\n",
       "    <tr>\n",
       "      <th>3</th>\n",
       "      <td>Albania</td>\n",
       "      <td>2023</td>\n",
       "      <td>ALB</td>\n",
       "      <td>365.0</td>\n",
       "      <td>Upper middle income</td>\n",
       "    </tr>\n",
       "    <tr>\n",
       "      <th>4</th>\n",
       "      <td>Andorra</td>\n",
       "      <td>2023</td>\n",
       "      <td>AND</td>\n",
       "      <td>NaN</td>\n",
       "      <td>High income</td>\n",
       "    </tr>\n",
       "  </tbody>\n",
       "</table>\n",
       "</div>"
      ],
      "text/plain": [
       "       country  year code  paid_leave         income_group\n",
       "0        Aruba  2023  ABW         NaN          High income\n",
       "1  Afghanistan  2023  AFG        90.0           Low income\n",
       "2       Angola  2023  AGO        90.0  Lower middle income\n",
       "3      Albania  2023  ALB       365.0  Upper middle income\n",
       "4      Andorra  2023  AND         NaN          High income"
      ]
     },
     "execution_count": 173,
     "metadata": {},
     "output_type": "execute_result"
    }
   ],
   "source": [
    "# female paid leave (calendar days)\n",
    "\n",
    "leave = (\n",
    "    pd.read_csv(\"Length of paid leave (calendar days)_female .csv\")\n",
    "    .rename(columns={\n",
    "        'Economy':'country',\n",
    "        'Economy Code':'code',\n",
    "        'Year':'year',\n",
    "        'Length of paid maternity leave (calendar days)':'paid_leave'\n",
    "    })\n",
    "    .assign(\n",
    "        income_group = lambda df:df['code'].map(classification_dict)\n",
    "    )\n",
    "    .loc[\n",
    "        lambda x:x['income_group'].notnull()\n",
    "    ]\n",
    ")\n",
    "\n",
    "print(\"We have a total of \" + str(len(leave)) + \" days, of which \" + str(len(leave[leave['paid_leave'].isnull()])) + \" countries don't have avaliable data.\")\n",
    "leave.head()"
   ]
  },
  {
   "cell_type": "markdown",
   "id": "d7848d88",
   "metadata": {},
   "source": [
    "Not enough data for China"
   ]
  },
  {
   "cell_type": "markdown",
   "id": "5254fbae",
   "metadata": {},
   "source": [
    "### Mean age at first marriage (data unavaliable)"
   ]
  },
  {
   "cell_type": "code",
   "execution_count": 174,
   "id": "610f253b",
   "metadata": {},
   "outputs": [
    {
     "data": {
      "text/html": [
       "<div>\n",
       "<style scoped>\n",
       "    .dataframe tbody tr th:only-of-type {\n",
       "        vertical-align: middle;\n",
       "    }\n",
       "\n",
       "    .dataframe tbody tr th {\n",
       "        vertical-align: top;\n",
       "    }\n",
       "\n",
       "    .dataframe thead th {\n",
       "        text-align: right;\n",
       "    }\n",
       "</style>\n",
       "<table border=\"1\" class=\"dataframe\">\n",
       "  <thead>\n",
       "    <tr style=\"text-align: right;\">\n",
       "      <th></th>\n",
       "      <th>country</th>\n",
       "      <th>year</th>\n",
       "      <th>mean_age_marriage</th>\n",
       "    </tr>\n",
       "  </thead>\n",
       "  <tbody>\n",
       "    <tr>\n",
       "      <th>2</th>\n",
       "      <td>Afghanistan</td>\n",
       "      <td>2010</td>\n",
       "      <td>21.5</td>\n",
       "    </tr>\n",
       "    <tr>\n",
       "      <th>28</th>\n",
       "      <td>Argentina</td>\n",
       "      <td>2010</td>\n",
       "      <td>24.6</td>\n",
       "    </tr>\n",
       "    <tr>\n",
       "      <th>34</th>\n",
       "      <td>Armenia</td>\n",
       "      <td>2010</td>\n",
       "      <td>24.5</td>\n",
       "    </tr>\n",
       "    <tr>\n",
       "      <th>38</th>\n",
       "      <td>Aruba</td>\n",
       "      <td>2010</td>\n",
       "      <td>28.5</td>\n",
       "    </tr>\n",
       "    <tr>\n",
       "      <th>86</th>\n",
       "      <td>Bahamas, The</td>\n",
       "      <td>2010</td>\n",
       "      <td>27.9</td>\n",
       "    </tr>\n",
       "  </tbody>\n",
       "</table>\n",
       "</div>"
      ],
      "text/plain": [
       "         country  year  mean_age_marriage\n",
       "2    Afghanistan  2010               21.5\n",
       "28     Argentina  2010               24.6\n",
       "34       Armenia  2010               24.5\n",
       "38         Aruba  2010               28.5\n",
       "86  Bahamas, The  2010               27.9"
      ]
     },
     "execution_count": 174,
     "metadata": {},
     "output_type": "execute_result"
    }
   ],
   "source": [
    "# mean age at first marriage, female\n",
    "\n",
    "marriage = (\n",
    "    pd.read_csv(\"Mean age at first marriage.csv\")\n",
    "    .rename(columns={\n",
    "        'Country Name':'country',\n",
    "        'Country Code':'code',\n",
    "        'Year': 'year',\n",
    "        'Value':'mean_age_marriage'\n",
    "    })\n",
    "    .loc[\n",
    "        lambda x:x['year']==2010\n",
    "    ]\n",
    "    .loc[\n",
    "        lambda x:x['Disaggregation']=='female'\n",
    "    ]\n",
    "    [['country','year','mean_age_marriage']]\n",
    ")\n",
    "\n",
    "marriage.head()"
   ]
  },
  {
   "cell_type": "markdown",
   "id": "5da3f459",
   "metadata": {},
   "source": [
    "Not enough data for China"
   ]
  },
  {
   "cell_type": "code",
   "execution_count": null,
   "id": "57de5495",
   "metadata": {},
   "outputs": [],
   "source": []
  },
  {
   "cell_type": "code",
   "execution_count": null,
   "id": "0bb0723b",
   "metadata": {},
   "outputs": [],
   "source": []
  },
  {
   "cell_type": "markdown",
   "id": "d65ddbcf",
   "metadata": {},
   "source": [
    "## Compare birth rate"
   ]
  },
  {
   "cell_type": "markdown",
   "id": "8c8b74c4",
   "metadata": {},
   "source": [
    "### Birth rate vs. Country economic development"
   ]
  },
  {
   "cell_type": "code",
   "execution_count": 50,
   "id": "723cf7f1",
   "metadata": {},
   "outputs": [],
   "source": [
    "gdp_2021 = gdp[gdp['variable']=='2021']\n",
    "gdp_2021_dict = dict(zip(gdp_2021['code'], gdp_2021['gdp_per_capita_dollars']))\n",
    "\n",
    "\n",
    "birth_2021 = (\n",
    "    birth[birth['year']==\"2021\"]\n",
    "    .loc[\n",
    "        lambda x:x['birth_rate_crude'].notnull() # 4 countries data unavaliable\n",
    "    ]\n",
    "    .assign(\n",
    "        gdp_per_capita = lambda df:df['code'].map(gdp_2021_dict)\n",
    "    )\n",
    "    .reset_index(drop=True)\n",
    ")"
   ]
  },
  {
   "cell_type": "markdown",
   "id": "5ac774bf",
   "metadata": {},
   "source": [
    "A common idea I had is that one country's birth rate has something to do with its economic development level - the richer the country is, the lower birth rate it has. "
   ]
  },
  {
   "cell_type": "code",
   "execution_count": 51,
   "id": "6e7e8f9a",
   "metadata": {},
   "outputs": [
    {
     "data": {
      "text/html": [
       "<div>\n",
       "<style scoped>\n",
       "    .dataframe tbody tr th:only-of-type {\n",
       "        vertical-align: middle;\n",
       "    }\n",
       "\n",
       "    .dataframe tbody tr th {\n",
       "        vertical-align: top;\n",
       "    }\n",
       "\n",
       "    .dataframe thead th {\n",
       "        text-align: right;\n",
       "    }\n",
       "</style>\n",
       "<table border=\"1\" class=\"dataframe\">\n",
       "  <thead>\n",
       "    <tr style=\"text-align: right;\">\n",
       "      <th></th>\n",
       "      <th>income_group</th>\n",
       "      <th>birth_rate_crude</th>\n",
       "    </tr>\n",
       "  </thead>\n",
       "  <tbody>\n",
       "    <tr>\n",
       "      <th>0</th>\n",
       "      <td>Low income</td>\n",
       "      <td>33.786038</td>\n",
       "    </tr>\n",
       "    <tr>\n",
       "      <th>1</th>\n",
       "      <td>Lower middle income</td>\n",
       "      <td>24.511870</td>\n",
       "    </tr>\n",
       "    <tr>\n",
       "      <th>2</th>\n",
       "      <td>Upper middle income</td>\n",
       "      <td>15.897889</td>\n",
       "    </tr>\n",
       "    <tr>\n",
       "      <th>3</th>\n",
       "      <td>High income</td>\n",
       "      <td>11.009280</td>\n",
       "    </tr>\n",
       "  </tbody>\n",
       "</table>\n",
       "</div>"
      ],
      "text/plain": [
       "          income_group  birth_rate_crude\n",
       "0           Low income         33.786038\n",
       "1  Lower middle income         24.511870\n",
       "2  Upper middle income         15.897889\n",
       "3          High income         11.009280"
      ]
     },
     "execution_count": 51,
     "metadata": {},
     "output_type": "execute_result"
    }
   ],
   "source": [
    "birth_2021_mean = birth_2021.groupby('income_group')['birth_rate_crude'].mean().reset_index()\n",
    "birth_2021_mean['income_group'] = pd.Categorical(birth_2021_mean['income_group'], ['Low income','Lower middle income', 'Upper middle income', 'High income'])\n",
    "birth_2021_mean.sort_values(\"income_group\").reset_index(drop=True)"
   ]
  },
  {
   "cell_type": "markdown",
   "id": "dbf80384",
   "metadata": {},
   "source": [
    "As shown above, the mean of birth rate does get lower as the income gets higher. "
   ]
  },
  {
   "cell_type": "code",
   "execution_count": 52,
   "id": "a6767752",
   "metadata": {},
   "outputs": [
    {
     "data": {
      "text/plain": [
       "Text(4617.5051, 6.319999999999999, 'China')"
      ]
     },
     "execution_count": 52,
     "metadata": {},
     "output_type": "execute_result"
    },
    {
     "data": {
      "image/png": "[encoded data removed]",
      "text/plain": [
       "<Figure size 800x480 with 1 Axes>"
      ]
     },
     "metadata": {},
     "output_type": "display_data"
    }
   ],
   "source": [
    "from matplotlib.pyplot import figure\n",
    "import matplotlib.pyplot as plt\n",
    "plt.style.use('fivethirtyeight')\n",
    "\n",
    "figure(figsize=(10, 6), dpi=80)\n",
    "\n",
    "low_income_countries = (\n",
    "    birth_2021[birth_2021['income_group']=='Low income']\n",
    "    .reset_index(drop=True)\n",
    ")\n",
    "\n",
    "lower_middle_countries = (\n",
    "    birth_2021[birth_2021['income_group']=='Lower middle income']\n",
    "    .reset_index(drop=True)\n",
    ")\n",
    "\n",
    "upper_middle_countries = (\n",
    "    birth_2021[birth_2021['income_group']=='Upper middle income']\n",
    "    .reset_index(drop=True)\n",
    ")\n",
    "\n",
    "high_income_countries = (\n",
    "    birth_2021[birth_2021['income_group']=='High income']\n",
    "    .reset_index(drop=True)\n",
    ")\n",
    "\n",
    "# fig, ax = plt.subplots()\n",
    "plt.scatter(low_income_countries['gdp_per_capita'], low_income_countries['birth_rate_crude'], c=\"#F1F5A8\")\n",
    "\n",
    "plt.scatter(lower_middle_countries['gdp_per_capita'], lower_middle_countries['birth_rate_crude'], c=\"#9AD0C2\")\n",
    "\n",
    "plt.scatter(upper_middle_countries['gdp_per_capita'], upper_middle_countries['birth_rate_crude'], c=\"#2D9596\")\n",
    "\n",
    "plt.scatter(high_income_countries['gdp_per_capita'], high_income_countries['birth_rate_crude'], c=\"#265073\")\n",
    "\n",
    "plt.title(\"Upper Middle Income & High Income Countries\")\n",
    "plt.xlabel(\"GDP per capita (dollars)\")\n",
    "plt.ylabel(\"Birth rate\")\n",
    "\n",
    "plt.annotate(\"China\", (upper_middle_countries['gdp_per_capita'][10]-8000,upper_middle_countries['birth_rate_crude'][10]-1.2))\n",
    "\n",
    "# for i, txt in enumerate(upper_middle_countries['country'].tolist()):\n",
    "#     plt.annotate(txt, (upper_middle_countries['gdp_per_capita'][i]-200,upper_middle_countries['birth_rate_crude'][i]+0.3))"
   ]
  },
  {
   "cell_type": "markdown",
   "id": "6489fe64",
   "metadata": {},
   "source": [
    "As shown above, overall, the countries with higher GDP per capita has lower birth rate. Is the difference statistically significant? We will set the **null hypothesis as the mean of birth rates among these four income level country groups are the same**."
   ]
  },
  {
   "cell_type": "markdown",
   "id": "a3dfd31f",
   "metadata": {},
   "source": [
    "We will be using ANOVA test."
   ]
  },
  {
   "cell_type": "code",
   "execution_count": 56,
   "id": "32d16869",
   "metadata": {},
   "outputs": [
    {
     "data": {
      "text/plain": [
       "F_onewayResult(statistic=129.45654601837344, pvalue=2.485840375967597e-47)"
      ]
     },
     "execution_count": 56,
     "metadata": {},
     "output_type": "execute_result"
    }
   ],
   "source": [
    "import numpy as np\n",
    "from scipy.stats import f_oneway\n",
    "\n",
    "low_income = birth_2021[birth_2021['income_group']=='Low income']['birth_rate_crude']\n",
    "lower_middle = birth_2021[birth_2021['income_group']=='Lower middle income']['birth_rate_crude']\n",
    "upper_middle = birth_2021[birth_2021['income_group']=='Upper middle income']['birth_rate_crude']\n",
    "high_income = birth_2021[birth_2021['income_group']=='High income']['birth_rate_crude']\n",
    "\n",
    "f_oneway(low_income, lower_middle, upper_middle, high_income)"
   ]
  },
  {
   "cell_type": "markdown",
   "id": "de5853af",
   "metadata": {},
   "source": [
    "As shown above, the p-value obtained from ANOVA analysis is way smaller than 0.05, the level of significance. And the f-value is also large enough. Therefore, we can reject the null hypothesis and conclude that there are significant differences among the means of birth rates of different income level country groups."
   ]
  },
  {
   "cell_type": "markdown",
   "id": "fab6113e",
   "metadata": {},
   "source": [
    "### China vs. Other Asian countries"
   ]
  },
  {
   "cell_type": "markdown",
   "id": "14cea0bc",
   "metadata": {},
   "source": [
    "According to the scatterplot above, China's birth rate is even lower than many high income countries, even though it is a upper middle income country. To better observe how fast China's birth rate is dropping, we can compare it with other Asian countries. Here I picked Japan, Korea, which shares similar culture background with China, and India, which recently surpassed China to be the most populated country."
   ]
  },
  {
   "cell_type": "code",
   "execution_count": 93,
   "id": "19cea361",
   "metadata": {},
   "outputs": [],
   "source": [
    "def drawBirthRate(keyword, colorName):\n",
    "    birth_rate = (\n",
    "        birth[birth['country']==keyword]\n",
    "        .assign(\n",
    "            year = lambda df:df['year'].astype(float)\n",
    "        )\n",
    "        .loc[\n",
    "            lambda x:x['year']>=1984\n",
    "        ]\n",
    "    )\n",
    "    \n",
    "    plt.plot(birth_rate['year'], birth_rate['birth_rate_crude'], color=colorName, label=keyword)\n",
    "    plt.xlabel(\"Year\")\n",
    "    plt.ylabel(\"Birth rate\")\n",
    "    plt.legend()\n",
    "    plt.title(keyword + \" Birth Rate over the Years\")\n",
    "    \n",
    "def countBirthChange(keyword):\n",
    "    birth_rate = (\n",
    "        birth[birth['country']==keyword]\n",
    "        .assign(\n",
    "            year = lambda df:df['year'].astype(float)\n",
    "        )\n",
    "        .loc[\n",
    "            lambda x:x['year']>=1984\n",
    "        ]\n",
    "        .reset_index(drop=True)\n",
    "    )\n",
    "    \n",
    "    birth_rate_1 = birth_rate['birth_rate_crude'][0]\n",
    "    birth_rate_2 = birth_rate['birth_rate_crude'][37]\n",
    "    birth_change = (birth_rate_2 - birth_rate_1)/birth_rate_1\n",
    "    \n",
    "    return birth_change"
   ]
  },
  {
   "cell_type": "code",
   "execution_count": 111,
   "id": "32eb46e7",
   "metadata": {},
   "outputs": [
    {
     "data": {
      "image/png": "[encoded data removed]",
      "text/plain": [
       "<Figure size 640x480 with 1 Axes>"
      ]
     },
     "metadata": {},
     "output_type": "display_data"
    }
   ],
   "source": [
    "asian_country_list = ['China', 'Japan', 'Korea, Rep.', 'India']\n",
    "color_palette = ['#EF6262','#071952','#0B666A','#35A29F']\n",
    "for a, b in zip(asian_country_list, color_palette):\n",
    "    drawBirthRate(a,b)"
   ]
  },
  {
   "cell_type": "code",
   "execution_count": 98,
   "id": "2fa58184",
   "metadata": {},
   "outputs": [
    {
     "name": "stdout",
     "output_type": "stream",
     "text": [
      "China: -0.622\n",
      "Japan: -0.472\n",
      "Korea, Rep.: -0.695\n",
      "India: -0.532\n"
     ]
    }
   ],
   "source": [
    "for item in asian_country_list:\n",
    "    result = countBirthChange(item)\n",
    "    print(item + \": \" + str(round(result,3)))"
   ]
  },
  {
   "cell_type": "markdown",
   "id": "71bc7d79",
   "metadata": {},
   "source": [
    "As shwon above, all four countries are experiencing a drop in birth rate over the recent 20 years. The question is: are their birth rate drop statistically different?"
   ]
  },
  {
   "cell_type": "code",
   "execution_count": 109,
   "id": "8e5c1f51",
   "metadata": {},
   "outputs": [
    {
     "data": {
      "text/plain": [
       "Ttest_indResult(statistic=-6.5710642575386276, pvalue=1.295805987212172e-09)"
      ]
     },
     "execution_count": 109,
     "metadata": {},
     "output_type": "execute_result"
    }
   ],
   "source": [
    "from scipy import stats\n",
    "\n",
    "compare_country='Japan'\n",
    "\n",
    "stats.ttest_ind(birth[ (birth['country']==\"Japan\") & (birth['year']!=\"2022\") ]['birth_rate_crude'], birth[ (birth['country']=='China') & (birth['year']!=\"2022\") ]['birth_rate_crude'])"
   ]
  },
  {
   "cell_type": "code",
   "execution_count": 108,
   "id": "7ed84098",
   "metadata": {},
   "outputs": [
    {
     "data": {
      "text/plain": [
       "Ttest_indResult(statistic=-0.8908774730792868, pvalue=0.37474845573835436)"
      ]
     },
     "execution_count": 108,
     "metadata": {},
     "output_type": "execute_result"
    }
   ],
   "source": [
    "compare_country='Korea, Rep.'\n",
    "\n",
    "stats.ttest_ind(birth[ (birth['country']==\"Korea, Rep.\") & (birth['year']!=\"2022\") ]['birth_rate_crude'], birth[ (birth['country']=='China') & (birth['year']!=\"2022\") ]['birth_rate_crude'])"
   ]
  },
  {
   "cell_type": "code",
   "execution_count": 107,
   "id": "c36d8b10",
   "metadata": {},
   "outputs": [
    {
     "data": {
      "text/plain": [
       "Ttest_indResult(statistic=7.20932857821619, pvalue=5.136752622836759e-11)"
      ]
     },
     "execution_count": 107,
     "metadata": {},
     "output_type": "execute_result"
    }
   ],
   "source": [
    "compare_country='India'\n",
    "\n",
    "stats.ttest_ind(birth[ (birth['country']==\"India\") & (birth['year']!=\"2022\") ]['birth_rate_crude'], birth[ (birth['country']=='China') & (birth['year']!=\"2022\") ]['birth_rate_crude'])"
   ]
  },
  {
   "cell_type": "markdown",
   "id": "7ea623af",
   "metadata": {},
   "source": [
    "Hence, even though all of them see a drop in the birth rate, China's percentage change is statistically different from that of Japan and India."
   ]
  },
  {
   "cell_type": "markdown",
   "id": "194a2aaf",
   "metadata": {},
   "source": [
    "## Factors contribute to China's Birth Rate"
   ]
  },
  {
   "cell_type": "markdown",
   "id": "4020f8f1",
   "metadata": {},
   "source": [
    "**Question:** What factors are actually influencing the birth rate? Here I want to build a regression model to observe the potential relationships."
   ]
  },
  {
   "cell_type": "code",
   "execution_count": 203,
   "id": "343bea43",
   "metadata": {},
   "outputs": [],
   "source": [
    "gdp_china = (\n",
    "    gdp\n",
    "    .loc[\n",
    "        lambda x:x['country']=='China'\n",
    "    ]\n",
    "    .rename(columns={'variable':'year'})\n",
    "    .reset_index(drop=True)\n",
    "    .assign(\n",
    "        countryId = lambda df:df['country'] + df['year']\n",
    "    )\n",
    ")\n",
    "#gdp_china.head() "
   ]
  },
  {
   "cell_type": "code",
   "execution_count": 204,
   "id": "f8caa7fc",
   "metadata": {},
   "outputs": [],
   "source": [
    "inflation_china = (\n",
    "    inflation\n",
    "    .loc[\n",
    "        lambda x:x['country']=='China'\n",
    "    ]\n",
    "    .reset_index(drop=True)\n",
    "    .rename(columns={'variable':'year'})\n",
    "    .assign(\n",
    "        countryId = lambda df:df['country'] + df['year']\n",
    "    )\n",
    ")\n",
    "\n",
    "#inflation_china.head()"
   ]
  },
  {
   "cell_type": "code",
   "execution_count": 205,
   "id": "00c9893f",
   "metadata": {},
   "outputs": [],
   "source": [
    "population_china = (\n",
    "    population\n",
    "    .loc[\n",
    "        lambda x:x['country']=='China'\n",
    "    ]\n",
    "    .reset_index(drop=True)\n",
    "    .assign(\n",
    "        countryId = lambda df:df['country'] + df['year'].astype(str)\n",
    "    )\n",
    ")\n",
    "\n",
    "#population_china.head()"
   ]
  },
  {
   "cell_type": "code",
   "execution_count": 206,
   "id": "ea3afe67",
   "metadata": {},
   "outputs": [],
   "source": [
    "schooling_china = (\n",
    "    schooling\n",
    "    .loc[\n",
    "        lambda x:x['country']=='China'\n",
    "    ]\n",
    "    .reset_index(drop=True)\n",
    "    .sort_values(by='year', ascending=False)\n",
    "    .loc[\n",
    "        lambda x:x['year']>=1960\n",
    "    ]\n",
    "    .assign(\n",
    "        countryId = lambda df:df['country'] + df['year'].astype(str)\n",
    "    )\n",
    ")\n",
    "#schooling_china.head()"
   ]
  },
  {
   "cell_type": "code",
   "execution_count": 216,
   "id": "f8a33fd6",
   "metadata": {},
   "outputs": [],
   "source": [
    "gdp_dict = dict(zip(gdp_china['countryId'], gdp_china['gdp_per_capita_dollars']))\n",
    "inflation_dict = dict(zip(inflation_china['countryId'], inflation_china['inflation_consumer_prices_perc']))\n",
    "population_dict = dict(zip(population_china['countryId'], population_china['population']))\n",
    "mitigation_dict = dict(zip(mitigation_china['countryId'], mitigation_china['mitigation']))\n",
    "sex_dict = dict(zip(sex_china['countryId'], sex_china['sex_ratio']))\n",
    "schooling_dict = dict(zip(schooling_china['countryId'], schooling_china['years_of_schooling_female']))\n",
    "labor_dict = dict(zip(labor_china['countryId'], labor_china['female_labor_participation']))"
   ]
  },
  {
   "cell_type": "code",
   "execution_count": 239,
   "id": "fc9e82ed",
   "metadata": {},
   "outputs": [
    {
     "data": {
      "text/html": [
       "<div>\n",
       "<style scoped>\n",
       "    .dataframe tbody tr th:only-of-type {\n",
       "        vertical-align: middle;\n",
       "    }\n",
       "\n",
       "    .dataframe tbody tr th {\n",
       "        vertical-align: top;\n",
       "    }\n",
       "\n",
       "    .dataframe thead th {\n",
       "        text-align: right;\n",
       "    }\n",
       "</style>\n",
       "<table border=\"1\" class=\"dataframe\">\n",
       "  <thead>\n",
       "    <tr style=\"text-align: right;\">\n",
       "      <th></th>\n",
       "      <th>country</th>\n",
       "      <th>code</th>\n",
       "      <th>year</th>\n",
       "      <th>birth_rate_crude</th>\n",
       "      <th>gdp</th>\n",
       "      <th>inflation</th>\n",
       "      <th>population</th>\n",
       "      <th>mitigation</th>\n",
       "      <th>sex_ratio</th>\n",
       "      <th>schooling</th>\n",
       "      <th>labor</th>\n",
       "    </tr>\n",
       "  </thead>\n",
       "  <tbody>\n",
       "    <tr>\n",
       "      <th>20</th>\n",
       "      <td>China</td>\n",
       "      <td>CHN</td>\n",
       "      <td>1980</td>\n",
       "      <td>18.21</td>\n",
       "      <td>312.020377</td>\n",
       "      <td>NaN</td>\n",
       "      <td>9.823725e+08</td>\n",
       "      <td>-20131.0</td>\n",
       "      <td>1.071</td>\n",
       "      <td>5.0</td>\n",
       "      <td>NaN</td>\n",
       "    </tr>\n",
       "    <tr>\n",
       "      <th>21</th>\n",
       "      <td>China</td>\n",
       "      <td>CHN</td>\n",
       "      <td>1981</td>\n",
       "      <td>20.91</td>\n",
       "      <td>291.358237</td>\n",
       "      <td>NaN</td>\n",
       "      <td>9.972595e+08</td>\n",
       "      <td>-28017.0</td>\n",
       "      <td>1.073</td>\n",
       "      <td>NaN</td>\n",
       "      <td>NaN</td>\n",
       "    </tr>\n",
       "    <tr>\n",
       "      <th>22</th>\n",
       "      <td>China</td>\n",
       "      <td>CHN</td>\n",
       "      <td>1982</td>\n",
       "      <td>22.28</td>\n",
       "      <td>281.499334</td>\n",
       "      <td>NaN</td>\n",
       "      <td>1.013483e+09</td>\n",
       "      <td>-36185.0</td>\n",
       "      <td>1.075</td>\n",
       "      <td>NaN</td>\n",
       "      <td>NaN</td>\n",
       "    </tr>\n",
       "    <tr>\n",
       "      <th>23</th>\n",
       "      <td>China</td>\n",
       "      <td>CHN</td>\n",
       "      <td>1983</td>\n",
       "      <td>20.19</td>\n",
       "      <td>297.807023</td>\n",
       "      <td>NaN</td>\n",
       "      <td>1.029227e+09</td>\n",
       "      <td>-43762.0</td>\n",
       "      <td>1.078</td>\n",
       "      <td>NaN</td>\n",
       "      <td>NaN</td>\n",
       "    </tr>\n",
       "    <tr>\n",
       "      <th>24</th>\n",
       "      <td>China</td>\n",
       "      <td>CHN</td>\n",
       "      <td>1984</td>\n",
       "      <td>19.90</td>\n",
       "      <td>302.585825</td>\n",
       "      <td>NaN</td>\n",
       "      <td>1.044172e+09</td>\n",
       "      <td>-51959.0</td>\n",
       "      <td>1.081</td>\n",
       "      <td>NaN</td>\n",
       "      <td>NaN</td>\n",
       "    </tr>\n",
       "  </tbody>\n",
       "</table>\n",
       "</div>"
      ],
      "text/plain": [
       "   country code  year  birth_rate_crude         gdp  inflation    population  \\\n",
       "20   China  CHN  1980             18.21  312.020377        NaN  9.823725e+08   \n",
       "21   China  CHN  1981             20.91  291.358237        NaN  9.972595e+08   \n",
       "22   China  CHN  1982             22.28  281.499334        NaN  1.013483e+09   \n",
       "23   China  CHN  1983             20.19  297.807023        NaN  1.029227e+09   \n",
       "24   China  CHN  1984             19.90  302.585825        NaN  1.044172e+09   \n",
       "\n",
       "    mitigation  sex_ratio  schooling  labor  \n",
       "20    -20131.0      1.071        5.0    NaN  \n",
       "21    -28017.0      1.073        NaN    NaN  \n",
       "22    -36185.0      1.075        NaN    NaN  \n",
       "23    -43762.0      1.078        NaN    NaN  \n",
       "24    -51959.0      1.081        NaN    NaN  "
      ]
     },
     "execution_count": 239,
     "metadata": {},
     "output_type": "execute_result"
    }
   ],
   "source": [
    "birth_china = (\n",
    "    birth[birth['country']=='China']\n",
    "    .reset_index(drop=True)\n",
    "    .assign(\n",
    "        countryId = lambda df:df['country'] + df['year'],\n",
    "        gdp = lambda df:df['countryId'].map(gdp_dict), #gdp per capita\n",
    "        inflation = lambda df:df['countryId'].map(inflation_dict),\n",
    "        population = lambda df:df['countryId'].map(population_dict),\n",
    "        mitigation = lambda df:df['countryId'].map(mitigation_dict),\n",
    "        sex_ratio = lambda df:df['countryId'].map(sex_dict),\n",
    "        schooling = lambda df:df['countryId'].map(schooling_dict),\n",
    "        labor = lambda df:df['countryId'].map(labor_dict),  \n",
    "        year = lambda df:df['year'].astype(int)\n",
    "    )\n",
    "    .drop('countryId', axis=1)\n",
    "    .drop('income_group', axis=1)\n",
    "    .loc[\n",
    "        lambda x:x['year']>=1980\n",
    "    ]\n",
    ")\n",
    "birth_china.head()"
   ]
  },
  {
   "cell_type": "code",
   "execution_count": 241,
   "id": "d37ffecd",
   "metadata": {},
   "outputs": [
    {
     "name": "stdout",
     "output_type": "stream",
     "text": [
      "42\n"
     ]
    },
    {
     "data": {
      "text/plain": [
       "country              0\n",
       "code                 0\n",
       "year                 0\n",
       "birth_rate_crude     0\n",
       "gdp                  0\n",
       "inflation            7\n",
       "population           0\n",
       "mitigation           0\n",
       "sex_ratio            0\n",
       "schooling           33\n",
       "labor               11\n",
       "dtype: int64"
      ]
     },
     "execution_count": 241,
     "metadata": {},
     "output_type": "execute_result"
    }
   ],
   "source": [
    "# check NA values in each column\n",
    "print(len(birth_china))\n",
    "birth_china.isna().sum()"
   ]
  },
  {
   "cell_type": "code",
   "execution_count": 242,
   "id": "211dba03",
   "metadata": {},
   "outputs": [
    {
     "data": {
      "text/html": [
       "<div>\n",
       "<style scoped>\n",
       "    .dataframe tbody tr th:only-of-type {\n",
       "        vertical-align: middle;\n",
       "    }\n",
       "\n",
       "    .dataframe tbody tr th {\n",
       "        vertical-align: top;\n",
       "    }\n",
       "\n",
       "    .dataframe thead th {\n",
       "        text-align: right;\n",
       "    }\n",
       "</style>\n",
       "<table border=\"1\" class=\"dataframe\">\n",
       "  <thead>\n",
       "    <tr style=\"text-align: right;\">\n",
       "      <th></th>\n",
       "      <th>country</th>\n",
       "      <th>code</th>\n",
       "      <th>year</th>\n",
       "      <th>birth_rate_crude</th>\n",
       "      <th>gdp</th>\n",
       "      <th>inflation</th>\n",
       "      <th>population</th>\n",
       "      <th>mitigation</th>\n",
       "      <th>sex_ratio</th>\n",
       "      <th>schooling</th>\n",
       "      <th>labor</th>\n",
       "    </tr>\n",
       "  </thead>\n",
       "  <tbody>\n",
       "    <tr>\n",
       "      <th>0</th>\n",
       "      <td>China</td>\n",
       "      <td>CHN</td>\n",
       "      <td>1980</td>\n",
       "      <td>18.21</td>\n",
       "      <td>312.020377</td>\n",
       "      <td>2.62105</td>\n",
       "      <td>9.823725e+08</td>\n",
       "      <td>-20131.0</td>\n",
       "      <td>1.071</td>\n",
       "      <td>5.00</td>\n",
       "      <td>72.64</td>\n",
       "    </tr>\n",
       "    <tr>\n",
       "      <th>1</th>\n",
       "      <td>China</td>\n",
       "      <td>CHN</td>\n",
       "      <td>1981</td>\n",
       "      <td>20.91</td>\n",
       "      <td>291.358237</td>\n",
       "      <td>2.62105</td>\n",
       "      <td>9.972595e+08</td>\n",
       "      <td>-28017.0</td>\n",
       "      <td>1.073</td>\n",
       "      <td>7.14</td>\n",
       "      <td>72.64</td>\n",
       "    </tr>\n",
       "    <tr>\n",
       "      <th>2</th>\n",
       "      <td>China</td>\n",
       "      <td>CHN</td>\n",
       "      <td>1982</td>\n",
       "      <td>22.28</td>\n",
       "      <td>281.499334</td>\n",
       "      <td>2.62105</td>\n",
       "      <td>1.013483e+09</td>\n",
       "      <td>-36185.0</td>\n",
       "      <td>1.075</td>\n",
       "      <td>7.14</td>\n",
       "      <td>72.64</td>\n",
       "    </tr>\n",
       "    <tr>\n",
       "      <th>3</th>\n",
       "      <td>China</td>\n",
       "      <td>CHN</td>\n",
       "      <td>1983</td>\n",
       "      <td>20.19</td>\n",
       "      <td>297.807023</td>\n",
       "      <td>2.62105</td>\n",
       "      <td>1.029227e+09</td>\n",
       "      <td>-43762.0</td>\n",
       "      <td>1.078</td>\n",
       "      <td>7.14</td>\n",
       "      <td>72.64</td>\n",
       "    </tr>\n",
       "    <tr>\n",
       "      <th>4</th>\n",
       "      <td>China</td>\n",
       "      <td>CHN</td>\n",
       "      <td>1984</td>\n",
       "      <td>19.90</td>\n",
       "      <td>302.585825</td>\n",
       "      <td>2.62105</td>\n",
       "      <td>1.044172e+09</td>\n",
       "      <td>-51959.0</td>\n",
       "      <td>1.081</td>\n",
       "      <td>7.14</td>\n",
       "      <td>72.64</td>\n",
       "    </tr>\n",
       "  </tbody>\n",
       "</table>\n",
       "</div>"
      ],
      "text/plain": [
       "  country code  year  birth_rate_crude         gdp  inflation    population  \\\n",
       "0   China  CHN  1980             18.21  312.020377    2.62105  9.823725e+08   \n",
       "1   China  CHN  1981             20.91  291.358237    2.62105  9.972595e+08   \n",
       "2   China  CHN  1982             22.28  281.499334    2.62105  1.013483e+09   \n",
       "3   China  CHN  1983             20.19  297.807023    2.62105  1.029227e+09   \n",
       "4   China  CHN  1984             19.90  302.585825    2.62105  1.044172e+09   \n",
       "\n",
       "   mitigation  sex_ratio  schooling  labor  \n",
       "0    -20131.0      1.071       5.00  72.64  \n",
       "1    -28017.0      1.073       7.14  72.64  \n",
       "2    -36185.0      1.075       7.14  72.64  \n",
       "3    -43762.0      1.078       7.14  72.64  \n",
       "4    -51959.0      1.081       7.14  72.64  "
      ]
     },
     "execution_count": 242,
     "metadata": {},
     "output_type": "execute_result"
    }
   ],
   "source": [
    "# Feature Engineering \n",
    "# imputing missing values with median\n",
    "birth_china2 = (\n",
    "    birth_china\n",
    "    .loc[\n",
    "        lambda df:df['birth_rate_crude'].notnull() # remove the rows where target value is NA\n",
    "    ]\n",
    "    .assign(\n",
    "        inflation = lambda df:df['inflation'].fillna(df['inflation'].median()),\n",
    "        schooling = lambda df:df['schooling'].fillna(df['schooling'].median()),\n",
    "        labor = lambda df:df['labor'].fillna(df['labor'].median())\n",
    "    )\n",
    "    .reset_index(drop=True)\n",
    ")\n",
    "\n",
    "birth_china2.head()"
   ]
  },
  {
   "cell_type": "code",
   "execution_count": null,
   "id": "b47d0d6a",
   "metadata": {},
   "outputs": [],
   "source": [
    "# But too many values are missing, lets remove the \n",
    "\n",
    "# remove outliers"
   ]
  },
  {
   "cell_type": "markdown",
   "id": "e1a69264",
   "metadata": {},
   "source": [
    "### Explore correlation"
   ]
  },
  {
   "cell_type": "code",
   "execution_count": 243,
   "id": "9a17622f",
   "metadata": {},
   "outputs": [],
   "source": [
    "# explore the correlation between each factor and birth rate\n",
    "def Pearson_correlation(X,Y):\n",
    "    if len(X)==len(Y):\n",
    "        Sum_xy = sum((X-X.mean())*(Y-Y.mean()))\n",
    "        Sum_x_squared = sum((X-X.mean())**2)\n",
    "        Sum_y_squared = sum((Y-Y.mean())**2)       \n",
    "        corr = Sum_xy / np.sqrt(Sum_x_squared * Sum_y_squared)\n",
    "    return corr"
   ]
  },
  {
   "cell_type": "code",
   "execution_count": 247,
   "id": "f0af1fdb",
   "metadata": {},
   "outputs": [
    {
     "name": "stdout",
     "output_type": "stream",
     "text": [
      "The correlation between birth rate and gdp is -0.73 . Very strong correlation.\n"
     ]
    },
    {
     "data": {
      "image/png": "[encoded data removed]",
      "text/plain": [
       "<Figure size 640x480 with 1 Axes>"
      ]
     },
     "metadata": {},
     "output_type": "display_data"
    }
   ],
   "source": [
    "keyword=\"gdp\"\n",
    "\n",
    "gdp_birth_corr = Pearson_correlation(birth_china2[keyword], birth_china2['birth_rate_crude'])\n",
    "\n",
    "plt.scatter(birth_china2[keyword], birth_china2['birth_rate_crude'])\n",
    "plt.title( keyword + \" vs. birth rate\")\n",
    "plt.xlabel(keyword)\n",
    "plt.ylabel(\"Birth rate\")\n",
    "\n",
    "print(\"The correlation between birth rate and gdp is \" + str(round(gdp_birth_corr,2)) + \" . Very strong correlation.\")"
   ]
  },
  {
   "cell_type": "code",
   "execution_count": 248,
   "id": "32e98c29",
   "metadata": {},
   "outputs": [
    {
     "name": "stdout",
     "output_type": "stream",
     "text": [
      "The correlation between birth rate and inflation is 0.4 . Not very strong correlation.\n"
     ]
    },
    {
     "data": {
      "image/png": "[encoded data removed]",
      "text/plain": [
       "<Figure size 640x480 with 1 Axes>"
      ]
     },
     "metadata": {},
     "output_type": "display_data"
    }
   ],
   "source": [
    "keyword = \"inflation\"\n",
    "\n",
    "correlation = Pearson_correlation(birth_china2[keyword], birth_china2['birth_rate_crude'])\n",
    "\n",
    "plt.scatter(birth_china2[keyword], birth_china2['birth_rate_crude'])\n",
    "plt.title( keyword + \" vs. birth rate\")\n",
    "plt.xlabel(keyword)\n",
    "plt.ylabel(\"Birth rate\")\n",
    "\n",
    "print(\"The correlation between birth rate and \" + keyword + \" is \" + str(round(correlation,2)) + \" . Not very strong correlation.\")"
   ]
  },
  {
   "cell_type": "code",
   "execution_count": 250,
   "id": "1993e91a",
   "metadata": {},
   "outputs": [
    {
     "name": "stdout",
     "output_type": "stream",
     "text": [
      "The correlation between birth rate and population is -0.9 . Very strong correlation.\n"
     ]
    },
    {
     "data": {
      "image/png": "[encoded data removed]",
      "text/plain": [
       "<Figure size 640x480 with 1 Axes>"
      ]
     },
     "metadata": {},
     "output_type": "display_data"
    }
   ],
   "source": [
    "keyword = \"population\"\n",
    "\n",
    "correlation = Pearson_correlation(birth_china2[keyword], birth_china2['birth_rate_crude'])\n",
    "\n",
    "plt.scatter(birth_china2[keyword], birth_china2['birth_rate_crude'])\n",
    "plt.title( keyword + \" vs. birth rate\")\n",
    "plt.xlabel(keyword)\n",
    "plt.ylabel(\"Birth rate\")\n",
    "\n",
    "print(\"The correlation between birth rate and \" + keyword + \" is \" + str(round(correlation,2)) + \" . Very strong correlation.\")"
   ]
  },
  {
   "cell_type": "code",
   "execution_count": 257,
   "id": "b12128e1",
   "metadata": {
    "scrolled": false
   },
   "outputs": [
    {
     "name": "stdout",
     "output_type": "stream",
     "text": [
      "The correlation between birth rate and mitigation is 0.06 . Not very strong correlation.\n"
     ]
    },
    {
     "data": {
      "image/png": "[encoded data removed]",
      "text/plain": [
       "<Figure size 640x480 with 1 Axes>"
      ]
     },
     "metadata": {},
     "output_type": "display_data"
    }
   ],
   "source": [
    "keyword = \"mitigation\"\n",
    "\n",
    "correlation = Pearson_correlation(birth_china2[keyword], birth_china2['birth_rate_crude'])\n",
    "\n",
    "plt.scatter(birth_china2[keyword], birth_china2['birth_rate_crude'])\n",
    "plt.title( keyword + \" vs. birth rate\")\n",
    "plt.xlabel(keyword)\n",
    "plt.ylabel(\"Birth rate\")\n",
    "\n",
    "print(\"The correlation between birth rate and \" + keyword + \" is \" + str(round(correlation,2)) + \" . Not very strong correlation.\")"
   ]
  },
  {
   "cell_type": "code",
   "execution_count": 260,
   "id": "ac88ffce",
   "metadata": {},
   "outputs": [
    {
     "name": "stdout",
     "output_type": "stream",
     "text": [
      "The correlation between birth rate and sex_ratio is -0.68 . Fairly strong correlation.\n"
     ]
    },
    {
     "data": {
      "image/png": "[encoded data removed]",
      "text/plain": [
       "<Figure size 640x480 with 1 Axes>"
      ]
     },
     "metadata": {},
     "output_type": "display_data"
    }
   ],
   "source": [
    "keyword = \"sex_ratio\"\n",
    "# sex ratio is male births vs. female births\n",
    "\n",
    "correlation = Pearson_correlation(birth_china2[keyword], birth_china2['birth_rate_crude'])\n",
    "\n",
    "plt.scatter(birth_china2[keyword], birth_china2['birth_rate_crude'])\n",
    "plt.title( keyword + \" vs. birth rate\")\n",
    "plt.xlabel(keyword)\n",
    "plt.ylabel(\"Birth rate\")\n",
    "\n",
    "print(\"The correlation between birth rate and \" + keyword + \" is \" + str(round(correlation,2)) + \" . Fairly strong correlation.\")"
   ]
  },
  {
   "cell_type": "code",
   "execution_count": 252,
   "id": "fe820151",
   "metadata": {},
   "outputs": [
    {
     "name": "stdout",
     "output_type": "stream",
     "text": [
      "The correlation between birth rate and schooling is -0.41 . Not very strong correlation. Also the result has been largely affected by the imputed missing value.\n"
     ]
    },
    {
     "data": {
      "image/png": "[encoded data removed]",
      "text/plain": [
       "<Figure size 640x480 with 1 Axes>"
      ]
     },
     "metadata": {},
     "output_type": "display_data"
    }
   ],
   "source": [
    "keyword = \"schooling\"\n",
    "\n",
    "correlation = Pearson_correlation(birth_china2[keyword], birth_china2['birth_rate_crude'])\n",
    "\n",
    "plt.scatter(birth_china2[keyword], birth_china2['birth_rate_crude'])\n",
    "plt.title( keyword + \" vs. birth rate\")\n",
    "plt.xlabel(keyword)\n",
    "plt.ylabel(\"Birth rate\")\n",
    "\n",
    "print(\"The correlation between birth rate and \" + keyword + \" is \" + str(round(correlation,2)) + \" . Not very strong correlation. Also the result has been largely affected by the imputed missing value.\")"
   ]
  },
  {
   "cell_type": "code",
   "execution_count": 255,
   "id": "3bafe9e2",
   "metadata": {},
   "outputs": [
    {
     "name": "stdout",
     "output_type": "stream",
     "text": [
      "The correlation between birth rate and labor is 0.35. Not strong correlation.\n"
     ]
    },
    {
     "data": {
      "image/png": "[encoded data removed]",
      "text/plain": [
       "<Figure size 640x480 with 1 Axes>"
      ]
     },
     "metadata": {},
     "output_type": "display_data"
    }
   ],
   "source": [
    "keyword = \"labor\"\n",
    "\n",
    "correlation = Pearson_correlation(birth_china2[keyword], birth_china2['birth_rate_crude'])\n",
    "\n",
    "plt.scatter(birth_china2[keyword], birth_china2['birth_rate_crude'])\n",
    "plt.title( keyword + \" vs. birth rate\")\n",
    "plt.xlabel(keyword)\n",
    "plt.ylabel(\"Birth rate\")\n",
    "\n",
    "print(\"The correlation between birth rate and \" + keyword + \" is \" + str(round(correlation,2)) + \". Not strong correlation.\")"
   ]
  },
  {
   "cell_type": "code",
   "execution_count": 305,
   "id": "01b7ca68",
   "metadata": {},
   "outputs": [
    {
     "name": "stdout",
     "output_type": "stream",
     "text": [
      "The correlation between GDP and leave is -0.17 . A fairly strong population (but the data is bad)\n"
     ]
    },
    {
     "data": {
      "image/png": "[encoded data removed]",
      "text/plain": [
       "<Figure size 640x480 with 1 Axes>"
      ]
     },
     "metadata": {},
     "output_type": "display_data"
    }
   ],
   "source": [
    "keyword = \"leave\"\n",
    "\n",
    "correlation = Pearson_correlation(birth_factors2[keyword], birth_factors2['birth_rate_crude'])\n",
    "\n",
    "plt.scatter(birth_factors2[keyword], birth_factors2['birth_rate_crude'])\n",
    "plt.title( keyword + \" vs. birth rate\")\n",
    "plt.xlabel(keyword)\n",
    "plt.ylabel(\"Birth rate\")\n",
    "\n",
    "print(\"The correlation between GDP and \" + keyword + \" is \" + str(round(correlation,2)) + \" . A fairly strong population (but the data is bad)\")"
   ]
  },
  {
   "cell_type": "code",
   "execution_count": 284,
   "id": "bb5e2ae4",
   "metadata": {},
   "outputs": [
    {
     "data": {
      "text/plain": [
       "<Axes: >"
      ]
     },
     "execution_count": 284,
     "metadata": {},
     "output_type": "execute_result"
    },
    {
     "data": {
      "image/png": "[encoded data removed]",
      "text/plain": [
       "<Figure size 640x480 with 2 Axes>"
      ]
     },
     "metadata": {},
     "output_type": "display_data"
    }
   ],
   "source": [
    "import seaborn as sns\n",
    "\n",
    "birth_china3 = (\n",
    "    birth_china2   [['birth_rate_crude','gdp','inflation','population','mitigation','sex_ratio','schooling','labor']]\n",
    ")\n",
    "\n",
    "sns.heatmap(birth_china3.corr(), annot=True)"
   ]
  },
  {
   "cell_type": "markdown",
   "id": "17640be3",
   "metadata": {},
   "source": [
    "### Build regression model"
   ]
  },
  {
   "cell_type": "markdown",
   "id": "9ccd4ff4",
   "metadata": {},
   "source": [
    "Since the dataset size is already quite limited, and for demonstration purpose, we won't split it into train and test sets."
   ]
  },
  {
   "cell_type": "code",
   "execution_count": 315,
   "id": "ecb0e588",
   "metadata": {},
   "outputs": [
    {
     "name": "stdout",
     "output_type": "stream",
     "text": [
      "[False  True False False  True  True False]\n",
      "[2 1 2 2 1 1 2]\n"
     ]
    }
   ],
   "source": [
    "# recursive feature elimination\n",
    "from sklearn.feature_selection import RFE\n",
    "from sklearn.linear_model import LinearRegression\n",
    "\n",
    "x = birth_china3.loc[:, birth_china3.columns!='birth_rate_crude']\n",
    "y = birth_china3.loc[:, birth_china3.columns=='birth_rate_crude']\n",
    "\n",
    "lin = LinearRegression()\n",
    "rfe = RFE(lin, step = 6)\n",
    "rfe = rfe.fit(x, y.values.ravel())\n",
    "\n",
    "print(rfe.support_)\n",
    "print(rfe.ranking_)"
   ]
  },
  {
   "cell_type": "code",
   "execution_count": 333,
   "id": "048f4f88",
   "metadata": {},
   "outputs": [
    {
     "data": {
      "text/html": [
       "<style>#sk-container-id-4 {\n",
       "  /* Definition of color scheme common for light and dark mode */\n",
       "  --sklearn-color-text: black;\n",
       "  --sklearn-color-line: gray;\n",
       "  /* Definition of color scheme for unfitted estimators */\n",
       "  --sklearn-color-unfitted-level-0: #fff5e6;\n",
       "  --sklearn-color-unfitted-level-1: #f6e4d2;\n",
       "  --sklearn-color-unfitted-level-2: #ffe0b3;\n",
       "  --sklearn-color-unfitted-level-3: chocolate;\n",
       "  /* Definition of color scheme for fitted estimators */\n",
       "  --sklearn-color-fitted-level-0: #f0f8ff;\n",
       "  --sklearn-color-fitted-level-1: #d4ebff;\n",
       "  --sklearn-color-fitted-level-2: #b3dbfd;\n",
       "  --sklearn-color-fitted-level-3: cornflowerblue;\n",
       "\n",
       "  /* Specific color for light theme */\n",
       "  --sklearn-color-text-on-default-background: var(--sg-text-color, var(--theme-code-foreground, var(--jp-content-font-color1, black)));\n",
       "  --sklearn-color-background: var(--sg-background-color, var(--theme-background, var(--jp-layout-color0, white)));\n",
       "  --sklearn-color-border-box: var(--sg-text-color, var(--theme-code-foreground, var(--jp-content-font-color1, black)));\n",
       "  --sklearn-color-icon: #696969;\n",
       "\n",
       "  @media (prefers-color-scheme: dark) {\n",
       "    /* Redefinition of color scheme for dark theme */\n",
       "    --sklearn-color-text-on-default-background: var(--sg-text-color, var(--theme-code-foreground, var(--jp-content-font-color1, white)));\n",
       "    --sklearn-color-background: var(--sg-background-color, var(--theme-background, var(--jp-layout-color0, #111)));\n",
       "    --sklearn-color-border-box: var(--sg-text-color, var(--theme-code-foreground, var(--jp-content-font-color1, white)));\n",
       "    --sklearn-color-icon: #878787;\n",
       "  }\n",
       "}\n",
       "\n",
       "#sk-container-id-4 {\n",
       "  color: var(--sklearn-color-text);\n",
       "}\n",
       "\n",
       "#sk-container-id-4 pre {\n",
       "  padding: 0;\n",
       "}\n",
       "\n",
       "#sk-container-id-4 input.sk-hidden--visually {\n",
       "  border: 0;\n",
       "  clip: rect(1px 1px 1px 1px);\n",
       "  clip: rect(1px, 1px, 1px, 1px);\n",
       "  height: 1px;\n",
       "  margin: -1px;\n",
       "  overflow: hidden;\n",
       "  padding: 0;\n",
       "  position: absolute;\n",
       "  width: 1px;\n",
       "}\n",
       "\n",
       "#sk-container-id-4 div.sk-dashed-wrapped {\n",
       "  border: 1px dashed var(--sklearn-color-line);\n",
       "  margin: 0 0.4em 0.5em 0.4em;\n",
       "  box-sizing: border-box;\n",
       "  padding-bottom: 0.4em;\n",
       "  background-color: var(--sklearn-color-background);\n",
       "}\n",
       "\n",
       "#sk-container-id-4 div.sk-container {\n",
       "  /* jupyter's `normalize.less` sets `[hidden] { display: none; }`\n",
       "     but bootstrap.min.css set `[hidden] { display: none !important; }`\n",
       "     so we also need the `!important` here to be able to override the\n",
       "     default hidden behavior on the sphinx rendered scikit-learn.org.\n",
       "     See: https://github.com/scikit-learn/scikit-learn/issues/21755 */\n",
       "  display: inline-block !important;\n",
       "  position: relative;\n",
       "}\n",
       "\n",
       "#sk-container-id-4 div.sk-text-repr-fallback {\n",
       "  display: none;\n",
       "}\n",
       "\n",
       "div.sk-parallel-item,\n",
       "div.sk-serial,\n",
       "div.sk-item {\n",
       "  /* draw centered vertical line to link estimators */\n",
       "  background-image: linear-gradient(var(--sklearn-color-text-on-default-background), var(--sklearn-color-text-on-default-background));\n",
       "  background-size: 2px 100%;\n",
       "  background-repeat: no-repeat;\n",
       "  background-position: center center;\n",
       "}\n",
       "\n",
       "/* Parallel-specific style estimator block */\n",
       "\n",
       "#sk-container-id-4 div.sk-parallel-item::after {\n",
       "  content: \"\";\n",
       "  width: 100%;\n",
       "  border-bottom: 2px solid var(--sklearn-color-text-on-default-background);\n",
       "  flex-grow: 1;\n",
       "}\n",
       "\n",
       "#sk-container-id-4 div.sk-parallel {\n",
       "  display: flex;\n",
       "  align-items: stretch;\n",
       "  justify-content: center;\n",
       "  background-color: var(--sklearn-color-background);\n",
       "  position: relative;\n",
       "}\n",
       "\n",
       "#sk-container-id-4 div.sk-parallel-item {\n",
       "  display: flex;\n",
       "  flex-direction: column;\n",
       "}\n",
       "\n",
       "#sk-container-id-4 div.sk-parallel-item:first-child::after {\n",
       "  align-self: flex-end;\n",
       "  width: 50%;\n",
       "}\n",
       "\n",
       "#sk-container-id-4 div.sk-parallel-item:last-child::after {\n",
       "  align-self: flex-start;\n",
       "  width: 50%;\n",
       "}\n",
       "\n",
       "#sk-container-id-4 div.sk-parallel-item:only-child::after {\n",
       "  width: 0;\n",
       "}\n",
       "\n",
       "/* Serial-specific style estimator block */\n",
       "\n",
       "#sk-container-id-4 div.sk-serial {\n",
       "  display: flex;\n",
       "  flex-direction: column;\n",
       "  align-items: center;\n",
       "  background-color: var(--sklearn-color-background);\n",
       "  padding-right: 1em;\n",
       "  padding-left: 1em;\n",
       "}\n",
       "\n",
       "\n",
       "/* Toggleable style: style used for estimator/Pipeline/ColumnTransformer box that is\n",
       "clickable and can be expanded/collapsed.\n",
       "- Pipeline and ColumnTransformer use this feature and define the default style\n",
       "- Estimators will overwrite some part of the style using the `sk-estimator` class\n",
       "*/\n",
       "\n",
       "/* Pipeline and ColumnTransformer style (default) */\n",
       "\n",
       "#sk-container-id-4 div.sk-toggleable {\n",
       "  /* Default theme specific background. It is overwritten whether we have a\n",
       "  specific estimator or a Pipeline/ColumnTransformer */\n",
       "  background-color: var(--sklearn-color-background);\n",
       "}\n",
       "\n",
       "/* Toggleable label */\n",
       "#sk-container-id-4 label.sk-toggleable__label {\n",
       "  cursor: pointer;\n",
       "  display: block;\n",
       "  width: 100%;\n",
       "  margin-bottom: 0;\n",
       "  padding: 0.5em;\n",
       "  box-sizing: border-box;\n",
       "  text-align: center;\n",
       "}\n",
       "\n",
       "#sk-container-id-4 label.sk-toggleable__label-arrow:before {\n",
       "  /* Arrow on the left of the label */\n",
       "  content: \"▸\";\n",
       "  float: left;\n",
       "  margin-right: 0.25em;\n",
       "  color: var(--sklearn-color-icon);\n",
       "}\n",
       "\n",
       "#sk-container-id-4 label.sk-toggleable__label-arrow:hover:before {\n",
       "  color: var(--sklearn-color-text);\n",
       "}\n",
       "\n",
       "/* Toggleable content - dropdown */\n",
       "\n",
       "#sk-container-id-4 div.sk-toggleable__content {\n",
       "  max-height: 0;\n",
       "  max-width: 0;\n",
       "  overflow: hidden;\n",
       "  text-align: left;\n",
       "  /* unfitted */\n",
       "  background-color: var(--sklearn-color-unfitted-level-0);\n",
       "}\n",
       "\n",
       "#sk-container-id-4 div.sk-toggleable__content.fitted {\n",
       "  /* fitted */\n",
       "  background-color: var(--sklearn-color-fitted-level-0);\n",
       "}\n",
       "\n",
       "#sk-container-id-4 div.sk-toggleable__content pre {\n",
       "  margin: 0.2em;\n",
       "  border-radius: 0.25em;\n",
       "  color: var(--sklearn-color-text);\n",
       "  /* unfitted */\n",
       "  background-color: var(--sklearn-color-unfitted-level-0);\n",
       "}\n",
       "\n",
       "#sk-container-id-4 div.sk-toggleable__content.fitted pre {\n",
       "  /* unfitted */\n",
       "  background-color: var(--sklearn-color-fitted-level-0);\n",
       "}\n",
       "\n",
       "#sk-container-id-4 input.sk-toggleable__control:checked~div.sk-toggleable__content {\n",
       "  /* Expand drop-down */\n",
       "  max-height: 200px;\n",
       "  max-width: 100%;\n",
       "  overflow: auto;\n",
       "}\n",
       "\n",
       "#sk-container-id-4 input.sk-toggleable__control:checked~label.sk-toggleable__label-arrow:before {\n",
       "  content: \"▾\";\n",
       "}\n",
       "\n",
       "/* Pipeline/ColumnTransformer-specific style */\n",
       "\n",
       "#sk-container-id-4 div.sk-label input.sk-toggleable__control:checked~label.sk-toggleable__label {\n",
       "  color: var(--sklearn-color-text);\n",
       "  background-color: var(--sklearn-color-unfitted-level-2);\n",
       "}\n",
       "\n",
       "#sk-container-id-4 div.sk-label.fitted input.sk-toggleable__control:checked~label.sk-toggleable__label {\n",
       "  background-color: var(--sklearn-color-fitted-level-2);\n",
       "}\n",
       "\n",
       "/* Estimator-specific style */\n",
       "\n",
       "/* Colorize estimator box */\n",
       "#sk-container-id-4 div.sk-estimator input.sk-toggleable__control:checked~label.sk-toggleable__label {\n",
       "  /* unfitted */\n",
       "  background-color: var(--sklearn-color-unfitted-level-2);\n",
       "}\n",
       "\n",
       "#sk-container-id-4 div.sk-estimator.fitted input.sk-toggleable__control:checked~label.sk-toggleable__label {\n",
       "  /* fitted */\n",
       "  background-color: var(--sklearn-color-fitted-level-2);\n",
       "}\n",
       "\n",
       "#sk-container-id-4 div.sk-label label.sk-toggleable__label,\n",
       "#sk-container-id-4 div.sk-label label {\n",
       "  /* The background is the default theme color */\n",
       "  color: var(--sklearn-color-text-on-default-background);\n",
       "}\n",
       "\n",
       "/* On hover, darken the color of the background */\n",
       "#sk-container-id-4 div.sk-label:hover label.sk-toggleable__label {\n",
       "  color: var(--sklearn-color-text);\n",
       "  background-color: var(--sklearn-color-unfitted-level-2);\n",
       "}\n",
       "\n",
       "/* Label box, darken color on hover, fitted */\n",
       "#sk-container-id-4 div.sk-label.fitted:hover label.sk-toggleable__label.fitted {\n",
       "  color: var(--sklearn-color-text);\n",
       "  background-color: var(--sklearn-color-fitted-level-2);\n",
       "}\n",
       "\n",
       "/* Estimator label */\n",
       "\n",
       "#sk-container-id-4 div.sk-label label {\n",
       "  font-family: monospace;\n",
       "  font-weight: bold;\n",
       "  display: inline-block;\n",
       "  line-height: 1.2em;\n",
       "}\n",
       "\n",
       "#sk-container-id-4 div.sk-label-container {\n",
       "  text-align: center;\n",
       "}\n",
       "\n",
       "/* Estimator-specific */\n",
       "#sk-container-id-4 div.sk-estimator {\n",
       "  font-family: monospace;\n",
       "  border: 1px dotted var(--sklearn-color-border-box);\n",
       "  border-radius: 0.25em;\n",
       "  box-sizing: border-box;\n",
       "  margin-bottom: 0.5em;\n",
       "  /* unfitted */\n",
       "  background-color: var(--sklearn-color-unfitted-level-0);\n",
       "}\n",
       "\n",
       "#sk-container-id-4 div.sk-estimator.fitted {\n",
       "  /* fitted */\n",
       "  background-color: var(--sklearn-color-fitted-level-0);\n",
       "}\n",
       "\n",
       "/* on hover */\n",
       "#sk-container-id-4 div.sk-estimator:hover {\n",
       "  /* unfitted */\n",
       "  background-color: var(--sklearn-color-unfitted-level-2);\n",
       "}\n",
       "\n",
       "#sk-container-id-4 div.sk-estimator.fitted:hover {\n",
       "  /* fitted */\n",
       "  background-color: var(--sklearn-color-fitted-level-2);\n",
       "}\n",
       "\n",
       "/* Specification for estimator info (e.g. \"i\" and \"?\") */\n",
       "\n",
       "/* Common style for \"i\" and \"?\" */\n",
       "\n",
       ".sk-estimator-doc-link,\n",
       "a:link.sk-estimator-doc-link,\n",
       "a:visited.sk-estimator-doc-link {\n",
       "  float: right;\n",
       "  font-size: smaller;\n",
       "  line-height: 1em;\n",
       "  font-family: monospace;\n",
       "  background-color: var(--sklearn-color-background);\n",
       "  border-radius: 1em;\n",
       "  height: 1em;\n",
       "  width: 1em;\n",
       "  text-decoration: none !important;\n",
       "  margin-left: 1ex;\n",
       "  /* unfitted */\n",
       "  border: var(--sklearn-color-unfitted-level-1) 1pt solid;\n",
       "  color: var(--sklearn-color-unfitted-level-1);\n",
       "}\n",
       "\n",
       ".sk-estimator-doc-link.fitted,\n",
       "a:link.sk-estimator-doc-link.fitted,\n",
       "a:visited.sk-estimator-doc-link.fitted {\n",
       "  /* fitted */\n",
       "  border: var(--sklearn-color-fitted-level-1) 1pt solid;\n",
       "  color: var(--sklearn-color-fitted-level-1);\n",
       "}\n",
       "\n",
       "/* On hover */\n",
       "div.sk-estimator:hover .sk-estimator-doc-link:hover,\n",
       ".sk-estimator-doc-link:hover,\n",
       "div.sk-label-container:hover .sk-estimator-doc-link:hover,\n",
       ".sk-estimator-doc-link:hover {\n",
       "  /* unfitted */\n",
       "  background-color: var(--sklearn-color-unfitted-level-3);\n",
       "  color: var(--sklearn-color-background);\n",
       "  text-decoration: none;\n",
       "}\n",
       "\n",
       "div.sk-estimator.fitted:hover .sk-estimator-doc-link.fitted:hover,\n",
       ".sk-estimator-doc-link.fitted:hover,\n",
       "div.sk-label-container:hover .sk-estimator-doc-link.fitted:hover,\n",
       ".sk-estimator-doc-link.fitted:hover {\n",
       "  /* fitted */\n",
       "  background-color: var(--sklearn-color-fitted-level-3);\n",
       "  color: var(--sklearn-color-background);\n",
       "  text-decoration: none;\n",
       "}\n",
       "\n",
       "/* Span, style for the box shown on hovering the info icon */\n",
       ".sk-estimator-doc-link span {\n",
       "  display: none;\n",
       "  z-index: 9999;\n",
       "  position: relative;\n",
       "  font-weight: normal;\n",
       "  right: .2ex;\n",
       "  padding: .5ex;\n",
       "  margin: .5ex;\n",
       "  width: min-content;\n",
       "  min-width: 20ex;\n",
       "  max-width: 50ex;\n",
       "  color: var(--sklearn-color-text);\n",
       "  box-shadow: 2pt 2pt 4pt #999;\n",
       "  /* unfitted */\n",
       "  background: var(--sklearn-color-unfitted-level-0);\n",
       "  border: .5pt solid var(--sklearn-color-unfitted-level-3);\n",
       "}\n",
       "\n",
       ".sk-estimator-doc-link.fitted span {\n",
       "  /* fitted */\n",
       "  background: var(--sklearn-color-fitted-level-0);\n",
       "  border: var(--sklearn-color-fitted-level-3);\n",
       "}\n",
       "\n",
       ".sk-estimator-doc-link:hover span {\n",
       "  display: block;\n",
       "}\n",
       "\n",
       "/* \"?\"-specific style due to the `<a>` HTML tag */\n",
       "\n",
       "#sk-container-id-4 a.estimator_doc_link {\n",
       "  float: right;\n",
       "  font-size: 1rem;\n",
       "  line-height: 1em;\n",
       "  font-family: monospace;\n",
       "  background-color: var(--sklearn-color-background);\n",
       "  border-radius: 1rem;\n",
       "  height: 1rem;\n",
       "  width: 1rem;\n",
       "  text-decoration: none;\n",
       "  /* unfitted */\n",
       "  color: var(--sklearn-color-unfitted-level-1);\n",
       "  border: var(--sklearn-color-unfitted-level-1) 1pt solid;\n",
       "}\n",
       "\n",
       "#sk-container-id-4 a.estimator_doc_link.fitted {\n",
       "  /* fitted */\n",
       "  border: var(--sklearn-color-fitted-level-1) 1pt solid;\n",
       "  color: var(--sklearn-color-fitted-level-1);\n",
       "}\n",
       "\n",
       "/* On hover */\n",
       "#sk-container-id-4 a.estimator_doc_link:hover {\n",
       "  /* unfitted */\n",
       "  background-color: var(--sklearn-color-unfitted-level-3);\n",
       "  color: var(--sklearn-color-background);\n",
       "  text-decoration: none;\n",
       "}\n",
       "\n",
       "#sk-container-id-4 a.estimator_doc_link.fitted:hover {\n",
       "  /* fitted */\n",
       "  background-color: var(--sklearn-color-fitted-level-3);\n",
       "}\n",
       "</style><div id=\"sk-container-id-4\" class=\"sk-top-container\"><div class=\"sk-text-repr-fallback\"><pre>LinearRegression()</pre><b>In a Jupyter environment, please rerun this cell to show the HTML representation or trust the notebook. <br />On GitHub, the HTML representation is unable to render, please try loading this page with nbviewer.org.</b></div><div class=\"sk-container\" hidden><div class=\"sk-item\"><div class=\"sk-estimator fitted sk-toggleable\"><input class=\"sk-toggleable__control sk-hidden--visually\" id=\"sk-estimator-id-4\" type=\"checkbox\" checked><label for=\"sk-estimator-id-4\" class=\"sk-toggleable__label fitted sk-toggleable__label-arrow fitted\">&nbsp;&nbsp;LinearRegression<a class=\"sk-estimator-doc-link fitted\" rel=\"noreferrer\" target=\"_blank\" href=\"https://scikit-learn.org/1.4/modules/generated/sklearn.linear_model.LinearRegression.html\">?<span>Documentation for LinearRegression</span></a><span class=\"sk-estimator-doc-link fitted\">i<span>Fitted</span></span></label><div class=\"sk-toggleable__content fitted\"><pre>LinearRegression()</pre></div> </div></div></div></div>"
      ],
      "text/plain": [
       "LinearRegression()"
      ]
     },
     "execution_count": 333,
     "metadata": {},
     "output_type": "execute_result"
    }
   ],
   "source": [
    "import statsmodels.api as st\n",
    "lin = LinearRegression()\n",
    "lin.fit(x, y)"
   ]
  },
  {
   "cell_type": "code",
   "execution_count": 336,
   "id": "7cfea071",
   "metadata": {},
   "outputs": [
    {
     "name": "stdout",
     "output_type": "stream",
     "text": [
      "coefficient of determination: 0.8765957251148935\n"
     ]
    }
   ],
   "source": [
    "model = LinearRegression().fit(x,y)\n",
    "r_sq = model.score(x,y)\n",
    "print(f\"coefficient of determination: {r_sq}\")"
   ]
  },
  {
   "cell_type": "code",
   "execution_count": null,
   "id": "dbfdeea1",
   "metadata": {},
   "outputs": [],
   "source": []
  },
  {
   "cell_type": "code",
   "execution_count": null,
   "id": "87c3b161",
   "metadata": {},
   "outputs": [],
   "source": []
  },
  {
   "cell_type": "code",
   "execution_count": null,
   "id": "26eb1096",
   "metadata": {},
   "outputs": [],
   "source": []
  },
  {
   "cell_type": "code",
   "execution_count": null,
   "id": "4a2fdd55",
   "metadata": {},
   "outputs": [],
   "source": []
  },
  {
   "cell_type": "code",
   "execution_count": null,
   "id": "8d39ccbd",
   "metadata": {},
   "outputs": [],
   "source": []
  },
  {
   "cell_type": "code",
   "execution_count": null,
   "id": "46703c59",
   "metadata": {},
   "outputs": [],
   "source": []
  },
  {
   "cell_type": "markdown",
   "id": "b45262bf",
   "metadata": {},
   "source": [
    "**Reference**:  \n",
    "https://ourworldindata.org/fertility-rate"
   ]
  },
  {
   "cell_type": "markdown",
   "id": "6e590fb1",
   "metadata": {},
   "source": [
    "**Data Sources**:  \n",
    "GDP - https://data.worldbank.org/indicator/NY.GDP.MKTP.CD  \n",
    "GDP per capita - https://data.worldbank.org/indicator/NY.GDP.PCAP.CD?locations=CN  \n",
    "Fertility rate - https://ourworldindata.org/grapher/fertility-vs-child-mortality?time=1962  \n",
    "Mortality rate - https://ourworldindata.org/grapher/fertility-vs-child-mortality?time=1962  \n",
    "Population - https://ourworldindata.org/grapher/fertility-vs-child-mortality?time=1962  \n",
    "Wage and Salaried workers, male % - https://data.worldbank.org/indicator/SL.EMP.WORK.MA.ZS  \n",
    "Wage and Salaried workers, female % - https://data.worldbank.org/indicator/SL.EMP.WORK.FE.ZS  \n",
    "Labor force participation, % - https://data.worldbank.org/indicator/SL.TLF.ACTI.FE.ZS?locations=CN  \n",
    "Birth rate - https://data.worldbank.org/indicator/SP.DYN.CBRT.IN  \n",
    "Parental Paid Leave - https://genderdata.worldbank.org/indicators/sh-leve  \n",
    "Mean age at first marriage - https://genderdata.worldbank.org/indicators/sp-dyn-smam/  \n",
    "Educational attainment - https://genderdata.worldbank.org/indicators/se-cuat-zs/?education=At%20least%20Bachelor%27s%20or%20equivalent  \n",
    "GDP inflation prices - https://data.worldbank.org/indicator/FP.CPI.TOTL.ZG?view=chart  \n",
    "Contraceptive prevelance - https://data.worldbank.org/indicator/SP.DYN.CONU.ZS?view=chart  \n",
    "Country Income Classification - https://datahelpdesk.worldbank.org/knowledgebase/articles/906519-world-bank-country-and-lending-groups\n"
   ]
  },
  {
   "cell_type": "code",
   "execution_count": null,
   "id": "6e04f9b4",
   "metadata": {},
   "outputs": [],
   "source": []
  }
 ],
 "metadata": {
  "kernelspec": {
   "display_name": "Python 3 (ipykernel)",
   "language": "python",
   "name": "python3"
  },
  "language_info": {
   "codemirror_mode": {
    "name": "ipython",
    "version": 3
   },
   "file_extension": ".py",
   "mimetype": "text/x-python",
   "name": "python",
   "nbconvert_exporter": "python",
   "pygments_lexer": "ipython3",
   "version": "3.10.10"
  },
  "toc": {
   "base_numbering": 1,
   "nav_menu": {},
   "number_sections": true,
   "sideBar": true,
   "skip_h1_title": false,
   "title_cell": "Table of Contents",
   "title_sidebar": "Contents",
   "toc_cell": false,
   "toc_position": {},
   "toc_section_display": true,
   "toc_window_display": true
  }
 },
 "nbformat": 4,
 "nbformat_minor": 5
}
